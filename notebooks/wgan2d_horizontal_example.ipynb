{
 "cells": [
  {
   "cell_type": "markdown",
   "metadata": {
    "colab_type": "text",
    "id": "view-in-github"
   },
   "source": [
    "<a href=\"https://colab.research.google.com/github/Pumafi/flumy-wgan-mines/blob/main/wgan2d_horizontal_example.ipynb\" target=\"_parent\"><img src=\"https://colab.research.google.com/assets/colab-badge.svg\" alt=\"Open In Colab\"/></a>"
   ]
  },
  {
   "cell_type": "markdown",
   "metadata": {
    "id": "I86cGpU7BzZc"
   },
   "source": [
    "# Wasserstein GAN with Gradient Penalty (WGAN-GP)"
   ]
  },
  {
   "cell_type": "code",
   "execution_count": null,
   "metadata": {},
   "outputs": [],
   "source": [
    "# From the git\n",
    "import sys\n",
    "sys.path.append('..')"
   ]
  },
  {
   "cell_type": "code",
   "execution_count": 4,
   "metadata": {
    "id": "4gb9PaarB1sv"
   },
   "outputs": [],
   "source": [
    "from tensorflow import keras\n",
    "import tensorflow as tf\n",
    "\n",
    "from models.wgan.w_generator import get_generator_model\n",
    "from models.wgan.w_discriminator import get_discriminator_model\n",
    "from models.wgan.wgan2d import WGAN2D\n",
    "from utils.callbacks import CheckpointSaving, GANMonitor\n",
    "\n",
    "import matplotlib.pyplot as plt\n",
    "from utils.visualisation import get_color_map, visualise_slice, visualise_slice_components, paint_image\n",
    "from utils.utils import generate_noise\n",
    "from data.load_data import load_data, DataGenerator"
   ]
  },
  {
   "cell_type": "markdown",
   "metadata": {
    "id": "VAEJUKYKCIfY"
   },
   "source": [
    "## Data  \n",
    "Load the data and create a Data Generator"
   ]
  },
  {
   "cell_type": "code",
   "execution_count": 5,
   "metadata": {
    "id": "zQ_Litz-B33A"
   },
   "outputs": [],
   "source": [
    "slice_size = (64, 128, 4)\n",
    "batch_size = 20\n",
    "noise_shape = (8, 16)"
   ]
  },
  {
   "cell_type": "code",
   "execution_count": 24,
   "metadata": {
    "id": "D3qDsUf2B5Ec"
   },
   "outputs": [],
   "source": [
    "# Horizontal data is 64x128\n",
    "# We made the latent space size relative to the output size, such that no resize\n",
    "# are necessary, only upsamples\n",
    "\n",
    "x_train = load_data(slice_size[0], slice_size[1], \"./data/horizontal/dataFlumyHoriz.csv\")\n",
    "dataloader = DataGenerator(x_train, batch_size, slice_size)"
   ]
  },
  {
   "cell_type": "markdown",
   "metadata": {
    "id": "tFT65Mp9CcMz"
   },
   "source": [
    "## Generator and Discriminator Models"
   ]
  },
  {
   "cell_type": "code",
   "execution_count": 13,
   "metadata": {
    "colab": {
     "base_uri": "https://localhost:8080/"
    },
    "id": "nB2EJ0A5ne4X",
    "outputId": "cdb24618-bd53-4614-8759-639ec13ca80d"
   },
   "outputs": [
    {
     "name": "stdout",
     "output_type": "stream",
     "text": [
      "Model: \"generator\"\n",
      "_________________________________________________________________\n",
      " Layer (type)                Output Shape              Param #   \n",
      "=================================================================\n",
      " gen-input (InputLayer)      [(None, None, None, 1)]   0         \n",
      "                                                                 \n",
      " 2d-upsample-block-init-up (  (None, None, None, 1)    0         \n",
      " UpSampling2D)                                                   \n",
      "                                                                 \n",
      " 2d-upsample-block-init-conv  (None, None, None, 16)   160       \n",
      "  (Conv2D)                                                       \n",
      "                                                                 \n",
      " 2d-upsample-block-init-bn (  (None, None, None, 16)   64        \n",
      " BatchNormalization)                                             \n",
      "                                                                 \n",
      " leaky_re_lu_4 (LeakyReLU)   (None, None, None, 16)    0         \n",
      "                                                                 \n",
      " 2d-upsample-block-0-up (UpS  (None, None, None, 16)   0         \n",
      " ampling2D)                                                      \n",
      "                                                                 \n",
      " 2d-upsample-block-0-conv (C  (None, None, None, 32)   4640      \n",
      " onv2D)                                                          \n",
      "                                                                 \n",
      " 2d-upsample-block-0-bn (Bat  (None, None, None, 32)   128       \n",
      " chNormalization)                                                \n",
      "                                                                 \n",
      " leaky_re_lu_5 (LeakyReLU)   (None, None, None, 32)    0         \n",
      "                                                                 \n",
      " 2d-upsample-block-1-up (UpS  (None, None, None, 32)   0         \n",
      " ampling2D)                                                      \n",
      "                                                                 \n",
      " 2d-upsample-block-1-conv (C  (None, None, None, 64)   18496     \n",
      " onv2D)                                                          \n",
      "                                                                 \n",
      " 2d-upsample-block-1-bn (Bat  (None, None, None, 64)   256       \n",
      " chNormalization)                                                \n",
      "                                                                 \n",
      " leaky_re_lu_6 (LeakyReLU)   (None, None, None, 64)    0         \n",
      "                                                                 \n",
      " 2d-upsample-block-2-up (UpS  (None, None, None, 64)   0         \n",
      " ampling2D)                                                      \n",
      "                                                                 \n",
      " 2d-upsample-block-2-conv (C  (None, None, None, 128)  73856     \n",
      " onv2D)                                                          \n",
      "                                                                 \n",
      " 2d-upsample-block-2-bn (Bat  (None, None, None, 128)  512       \n",
      " chNormalization)                                                \n",
      "                                                                 \n",
      " leaky_re_lu_7 (LeakyReLU)   (None, None, None, 128)   0         \n",
      "                                                                 \n",
      " 2d-upsample-block-output-up  (None, None, None, 128)  0         \n",
      "  (UpSampling2D)                                                 \n",
      "                                                                 \n",
      " 2d-upsample-block-output-co  (None, None, None, 4)    4612      \n",
      " nv (Conv2D)                                                     \n",
      "                                                                 \n",
      " 2d-upsample-block-output-bn  (None, None, None, 4)    16        \n",
      "  (BatchNormalization)                                           \n",
      "                                                                 \n",
      " tf.nn.softmax_1 (TFOpLambda  (None, None, None, 4)    0         \n",
      " )                                                               \n",
      "                                                                 \n",
      "=================================================================\n",
      "Total params: 102,740\n",
      "Trainable params: 102,252\n",
      "Non-trainable params: 488\n",
      "_________________________________________________________________\n"
     ]
    }
   ],
   "source": [
    "g_model = get_generator_model(output_channels=slice_size[-1], layers_features=[16, 32, 64, 128])\n",
    "generator_optimizer = keras.optimizers.Adam(learning_rate=5e-4, beta_1=0.5, beta_2=0.99)\n",
    "g_model.summary()"
   ]
  },
  {
   "cell_type": "code",
   "execution_count": 14,
   "metadata": {
    "colab": {
     "base_uri": "https://localhost:8080/"
    },
    "id": "kDTi_Qklngmn",
    "outputId": "2fa250f6-5713-4c86-cc04-0ddf524605ef"
   },
   "outputs": [
    {
     "name": "stdout",
     "output_type": "stream",
     "text": [
      "Model: \"discriminator\"\n",
      "__________________________________________________________________________________________________\n",
      " Layer (type)                   Output Shape         Param #     Connected to                     \n",
      "==================================================================================================\n",
      " input_2 (InputLayer)           [(None, 64, 128, 4)  0           []                               \n",
      "                                ]                                                                 \n",
      "                                                                                                  \n",
      " disc-conv-block-1-conv (Conv2D  (None, 64, 128, 64)  2368       ['input_2[0][0]']                \n",
      " )                                                                                                \n",
      "                                                                                                  \n",
      " leaky_re_lu_8 (LeakyReLU)      multiple             0           ['disc-conv-block-1-conv[0][0]', \n",
      "                                                                  'disc-conv-block-2-conv[0][0]', \n",
      "                                                                  'disc-conv-block-3-conv[0][0]', \n",
      "                                                                  'disc-conv-block-4-conv[0][0]'] \n",
      "                                                                                                  \n",
      " disc-conv-block-1--avg-pool (A  (None, 32, 64, 64)  0           ['leaky_re_lu_8[0][0]']          \n",
      " veragePooling2D)                                                                                 \n",
      "                                                                                                  \n",
      " disc-conv-block-2-conv (Conv2D  (None, 32, 64, 128)  73856      ['disc-conv-block-1--avg-pool[0][\n",
      " )                                                               0]']                             \n",
      "                                                                                                  \n",
      " disc-conv-block-2--avg-pool (A  (None, 16, 32, 128)  0          ['leaky_re_lu_8[1][0]']          \n",
      " veragePooling2D)                                                                                 \n",
      "                                                                                                  \n",
      " disc-conv-block-3-conv (Conv2D  (None, 16, 32, 256)  295168     ['disc-conv-block-2--avg-pool[0][\n",
      " )                                                               0]']                             \n",
      "                                                                                                  \n",
      " disc-conv-block-3--avg-pool (A  (None, 8, 16, 256)  0           ['leaky_re_lu_8[2][0]']          \n",
      " veragePooling2D)                                                                                 \n",
      "                                                                                                  \n",
      " disc-conv-block-4-conv (Conv2D  (None, 8, 16, 512)  1180160     ['disc-conv-block-3--avg-pool[0][\n",
      " )                                                               0]']                             \n",
      "                                                                                                  \n",
      " disc-conv-block-4--avg-pool (A  (None, 4, 8, 512)   0           ['leaky_re_lu_8[3][0]']          \n",
      " veragePooling2D)                                                                                 \n",
      "                                                                                                  \n",
      " disc-flatten-output (Flatten)  (None, 16384)        0           ['disc-conv-block-4--avg-pool[0][\n",
      "                                                                 0]']                             \n",
      "                                                                                                  \n",
      " disc-dropout-output (Dropout)  (None, 16384)        0           ['disc-flatten-output[0][0]']    \n",
      "                                                                                                  \n",
      " disc-dense-output (Dense)      (None, 1)            16385       ['disc-dropout-output[0][0]']    \n",
      "                                                                                                  \n",
      "==================================================================================================\n",
      "Total params: 1,567,937\n",
      "Trainable params: 1,567,937\n",
      "Non-trainable params: 0\n",
      "__________________________________________________________________________________________________\n"
     ]
    }
   ],
   "source": [
    "d_model = get_discriminator_model(slice_size)\n",
    "discriminator_optimizer = keras.optimizers.Adam(learning_rate=1e-4, beta_1=0.5, beta_2=0.99)\n",
    "d_model.summary()"
   ]
  },
  {
   "cell_type": "markdown",
   "metadata": {
    "id": "oK3ocyykCglU"
   },
   "source": [
    "## WGAN model"
   ]
  },
  {
   "cell_type": "code",
   "execution_count": 15,
   "metadata": {
    "id": "wh_9yZn8nia4"
   },
   "outputs": [],
   "source": [
    "# Instantiate the WGAN model.\n",
    "wgan2d = WGAN2D(\n",
    "    discriminator=d_model,\n",
    "    generator=g_model,\n",
    "    latent_shape=noise_shape,\n",
    "    discriminator_extra_steps=3, # More tests could be done on the right amount of extra steps\n",
    ")\n",
    "\n",
    "wgan2d.compile(d_optimizer=discriminator_optimizer, g_optimizer=generator_optimizer)"
   ]
  },
  {
   "cell_type": "markdown",
   "metadata": {
    "id": "HzOmc1RvCoRW"
   },
   "source": [
    "## Training"
   ]
  },
  {
   "cell_type": "code",
   "execution_count": 16,
   "metadata": {
    "id": "Qd4_upXQjw1s"
   },
   "outputs": [],
   "source": [
    "# If we want to import a trained model, depends on what tests we need\n",
    "\n",
    "from models.load_trained_models import wgan_horizontal\n",
    "LOAD_WEIGHTS = False\n",
    "\n",
    "if LOAD_WEIGHTS:\n",
    "  wgan_2d = wgan_horizontal(\"./trainedweights/wgan2d/cp-wgan2d_horiz_good.ckpt\")\n",
    "  g_model = wgan_2d.generator\n",
    "  print(\"Successfully loaded model\")"
   ]
  },
  {
   "cell_type": "code",
   "execution_count": 17,
   "metadata": {
    "id": "k08tvWU_nnuT"
   },
   "outputs": [],
   "source": [
    "epochs = 150\n",
    "\n",
    "cmap, norm = get_color_map(number_of_categories=4)\n",
    "callback=GANMonitor(\n",
    "    latent_shape=noise_shape,\n",
    "    cmap=cmap,\n",
    "    norm=norm,\n",
    "    slice_h=64,\n",
    "    slice_w=128,\n",
    "    num_random_img=2\n",
    ")\n",
    "\n",
    "#checkpoint = CheckpointSaving()\n",
    "\n"
   ]
  },
  {
   "cell_type": "code",
   "execution_count": 18,
   "metadata": {
    "colab": {
     "base_uri": "https://localhost:8080/"
    },
    "id": "p0vY26_SE8HS",
    "outputId": "fb535a4c-0e51-414a-c91a-65c528db709d"
   },
   "outputs": [
    {
     "name": "stdout",
     "output_type": "stream",
     "text": [
      "Epoch 1/150\n",
      "150/150 [==============================] - 29s 150ms/step - d_loss: -117.9613 - g_loss: 26.6969\n",
      "Epoch 2/150\n",
      "150/150 [==============================] - 23s 153ms/step - d_loss: -123.4172 - g_loss: 211.0210\n",
      "Epoch 3/150\n",
      "150/150 [==============================] - 23s 151ms/step - d_loss: -106.0363 - g_loss: 225.3650\n",
      "Epoch 4/150\n",
      "150/150 [==============================] - 22s 150ms/step - d_loss: -92.4783 - g_loss: 226.7797\n",
      "Epoch 5/150\n",
      "150/150 [==============================] - 23s 153ms/step - d_loss: -80.8059 - g_loss: 201.8065\n",
      "Epoch 6/150\n",
      "150/150 [==============================] - 24s 157ms/step - d_loss: -69.0709 - g_loss: 194.3877\n",
      "Epoch 7/150\n",
      "150/150 [==============================] - 23s 151ms/step - d_loss: -59.1785 - g_loss: 166.4191\n",
      "Epoch 8/150\n",
      "150/150 [==============================] - 23s 150ms/step - d_loss: -50.3510 - g_loss: 186.6990\n",
      "Epoch 9/150\n",
      "150/150 [==============================] - 23s 154ms/step - d_loss: -42.6041 - g_loss: 206.5684\n",
      "Epoch 10/150\n",
      "150/150 [==============================] - 23s 153ms/step - d_loss: -36.9236 - g_loss: 173.7346\n",
      "Epoch 11/150\n",
      "150/150 [==============================] - 23s 151ms/step - d_loss: -33.0781 - g_loss: 160.2384\n",
      "Epoch 12/150\n",
      "150/150 [==============================] - 23s 150ms/step - d_loss: -28.5951 - g_loss: 123.8537\n",
      "Epoch 13/150\n",
      "150/150 [==============================] - 23s 150ms/step - d_loss: -25.9817 - g_loss: 103.6443\n",
      "Epoch 14/150\n",
      "150/150 [==============================] - 23s 151ms/step - d_loss: -25.5992 - g_loss: 106.4149\n",
      "Epoch 15/150\n",
      "150/150 [==============================] - 23s 150ms/step - d_loss: -22.6356 - g_loss: 127.2771\n",
      "Epoch 16/150\n",
      "150/150 [==============================] - 22s 150ms/step - d_loss: -21.4156 - g_loss: 120.8496\n",
      "Epoch 17/150\n",
      "150/150 [==============================] - 23s 150ms/step - d_loss: -18.0680 - g_loss: 88.0178\n",
      "Epoch 18/150\n",
      "150/150 [==============================] - 23s 150ms/step - d_loss: -17.5685 - g_loss: 39.1338\n",
      "Epoch 19/150\n",
      "150/150 [==============================] - 23s 150ms/step - d_loss: -17.0514 - g_loss: 55.0255\n",
      "Epoch 20/150\n",
      "150/150 [==============================] - 23s 151ms/step - d_loss: -17.0865 - g_loss: 24.4589\n",
      "Epoch 21/150\n",
      "150/150 [==============================] - 22s 150ms/step - d_loss: -16.3191 - g_loss: 18.3197\n",
      "Epoch 22/150\n",
      "150/150 [==============================] - 22s 150ms/step - d_loss: -15.5247 - g_loss: 9.4437\n",
      "Epoch 23/150\n",
      "150/150 [==============================] - 22s 150ms/step - d_loss: -16.4421 - g_loss: 34.2723\n",
      "Epoch 24/150\n",
      "150/150 [==============================] - 23s 150ms/step - d_loss: -15.4688 - g_loss: 51.6051\n",
      "Epoch 25/150\n",
      "150/150 [==============================] - 23s 151ms/step - d_loss: -16.1691 - g_loss: 75.5823\n",
      "Epoch 26/150\n",
      "150/150 [==============================] - 23s 150ms/step - d_loss: -15.0748 - g_loss: 51.5443\n",
      "Epoch 27/150\n",
      "150/150 [==============================] - 23s 150ms/step - d_loss: -15.4934 - g_loss: 74.0162\n",
      "Epoch 28/150\n",
      "150/150 [==============================] - 23s 150ms/step - d_loss: -15.8682 - g_loss: 68.8964\n",
      "Epoch 29/150\n",
      "150/150 [==============================] - 23s 150ms/step - d_loss: -15.4369 - g_loss: 99.8563\n",
      "Epoch 30/150\n",
      "150/150 [==============================] - 23s 151ms/step - d_loss: -15.6186 - g_loss: 116.3583\n",
      "Epoch 31/150\n",
      "150/150 [==============================] - 23s 150ms/step - d_loss: -14.9019 - g_loss: 92.7905\n",
      "Epoch 32/150\n",
      "150/150 [==============================] - 22s 150ms/step - d_loss: -15.3302 - g_loss: 57.2362\n",
      "Epoch 33/150\n",
      "150/150 [==============================] - 22s 150ms/step - d_loss: -14.1832 - g_loss: 82.1006\n",
      "Epoch 34/150\n",
      "150/150 [==============================] - 23s 150ms/step - d_loss: -14.8756 - g_loss: 87.5206\n",
      "Epoch 35/150\n",
      "150/150 [==============================] - 23s 150ms/step - d_loss: -15.1442 - g_loss: 74.4511\n",
      "Epoch 36/150\n",
      "150/150 [==============================] - 22s 150ms/step - d_loss: -14.3613 - g_loss: 42.0384\n",
      "Epoch 37/150\n",
      "150/150 [==============================] - 23s 150ms/step - d_loss: -15.3118 - g_loss: 50.3289\n",
      "Epoch 38/150\n",
      "150/150 [==============================] - 22s 150ms/step - d_loss: -14.6012 - g_loss: 29.4349\n",
      "Epoch 39/150\n",
      "150/150 [==============================] - 22s 150ms/step - d_loss: -15.0486 - g_loss: 11.3019\n",
      "Epoch 40/150\n",
      "150/150 [==============================] - 23s 150ms/step - d_loss: -14.8891 - g_loss: 13.2933\n",
      "Epoch 41/150\n",
      "150/150 [==============================] - 23s 150ms/step - d_loss: -14.3756 - g_loss: -2.5329\n",
      "Epoch 42/150\n",
      "150/150 [==============================] - 22s 150ms/step - d_loss: -14.7966 - g_loss: 4.4409\n",
      "Epoch 43/150\n",
      "150/150 [==============================] - 23s 150ms/step - d_loss: -13.9321 - g_loss: -12.1729\n",
      "Epoch 44/150\n",
      "150/150 [==============================] - 23s 150ms/step - d_loss: -13.4152 - g_loss: -1.4753\n",
      "Epoch 45/150\n",
      "150/150 [==============================] - 23s 150ms/step - d_loss: -14.7520 - g_loss: -0.2705\n",
      "Epoch 46/150\n",
      "150/150 [==============================] - 22s 150ms/step - d_loss: -14.1096 - g_loss: -6.5348\n",
      "Epoch 47/150\n",
      "150/150 [==============================] - 22s 150ms/step - d_loss: -14.4843 - g_loss: 1.8230\n",
      "Epoch 48/150\n",
      "150/150 [==============================] - 22s 150ms/step - d_loss: -13.9987 - g_loss: 7.4623\n",
      "Epoch 49/150\n",
      "150/150 [==============================] - 23s 150ms/step - d_loss: -14.5547 - g_loss: 0.4791\n",
      "Epoch 50/150\n",
      "150/150 [==============================] - 23s 150ms/step - d_loss: -14.5517 - g_loss: -5.5859\n",
      "Epoch 51/150\n",
      "150/150 [==============================] - 22s 150ms/step - d_loss: -14.0675 - g_loss: -15.7980\n",
      "Epoch 52/150\n",
      "150/150 [==============================] - 22s 150ms/step - d_loss: -13.9318 - g_loss: -2.6974\n",
      "Epoch 53/150\n",
      "150/150 [==============================] - 22s 150ms/step - d_loss: -13.7323 - g_loss: 8.1785\n",
      "Epoch 54/150\n",
      "150/150 [==============================] - 22s 150ms/step - d_loss: -14.3408 - g_loss: 21.1543\n",
      "Epoch 55/150\n",
      "150/150 [==============================] - 23s 152ms/step - d_loss: -14.3274 - g_loss: 26.8322\n",
      "Epoch 56/150\n",
      "150/150 [==============================] - 22s 150ms/step - d_loss: -13.8962 - g_loss: 50.9221\n",
      "Epoch 57/150\n",
      "150/150 [==============================] - 22s 150ms/step - d_loss: -14.4131 - g_loss: 32.0549\n",
      "Epoch 58/150\n",
      "150/150 [==============================] - 23s 150ms/step - d_loss: -14.7502 - g_loss: 43.3056\n",
      "Epoch 59/150\n",
      "150/150 [==============================] - 23s 150ms/step - d_loss: -14.2521 - g_loss: 41.3116\n",
      "Epoch 60/150\n",
      "150/150 [==============================] - 23s 151ms/step - d_loss: -15.6338 - g_loss: -21.7729\n",
      "Epoch 61/150\n",
      "150/150 [==============================] - 23s 150ms/step - d_loss: -13.5731 - g_loss: 10.2874\n",
      "Epoch 62/150\n",
      "150/150 [==============================] - 23s 151ms/step - d_loss: -14.3603 - g_loss: 10.3476\n",
      "Epoch 63/150\n",
      "150/150 [==============================] - 22s 150ms/step - d_loss: -14.9162 - g_loss: -23.8572\n",
      "Epoch 64/150\n",
      "150/150 [==============================] - 23s 150ms/step - d_loss: -14.2008 - g_loss: -13.9817\n",
      "Epoch 65/150\n",
      "150/150 [==============================] - 23s 150ms/step - d_loss: -14.3926 - g_loss: -20.8910\n",
      "Epoch 66/150\n",
      "150/150 [==============================] - 23s 150ms/step - d_loss: -14.4486 - g_loss: -5.4938\n",
      "Epoch 67/150\n",
      "150/150 [==============================] - 23s 150ms/step - d_loss: -14.7506 - g_loss: 4.0988\n",
      "Epoch 68/150\n",
      "150/150 [==============================] - 23s 151ms/step - d_loss: -14.7838 - g_loss: 9.9294\n",
      "Epoch 69/150\n",
      "150/150 [==============================] - 23s 150ms/step - d_loss: -14.2784 - g_loss: -8.9803\n",
      "Epoch 70/150\n",
      "150/150 [==============================] - 23s 150ms/step - d_loss: -15.0644 - g_loss: -16.6492\n",
      "Epoch 71/150\n",
      "150/150 [==============================] - 23s 150ms/step - d_loss: -14.7228 - g_loss: -11.1112\n",
      "Epoch 72/150\n",
      "150/150 [==============================] - 23s 150ms/step - d_loss: -15.5452 - g_loss: -35.5354\n",
      "Epoch 73/150\n",
      "150/150 [==============================] - 23s 151ms/step - d_loss: -14.4013 - g_loss: -33.5185\n",
      "Epoch 74/150\n",
      "150/150 [==============================] - 23s 151ms/step - d_loss: -13.2936 - g_loss: -48.5232\n",
      "Epoch 75/150\n",
      "150/150 [==============================] - 23s 150ms/step - d_loss: -14.6626 - g_loss: -25.6838\n",
      "Epoch 76/150\n",
      "150/150 [==============================] - 23s 151ms/step - d_loss: -16.4893 - g_loss: -41.3945\n",
      "Epoch 77/150\n",
      "150/150 [==============================] - 23s 151ms/step - d_loss: -12.4621 - g_loss: -21.1706\n",
      "Epoch 78/150\n",
      "150/150 [==============================] - 23s 151ms/step - d_loss: -14.5810 - g_loss: -28.2703\n",
      "Epoch 79/150\n",
      "150/150 [==============================] - 23s 151ms/step - d_loss: -15.6488 - g_loss: 22.2924\n",
      "Epoch 80/150\n",
      "150/150 [==============================] - 23s 151ms/step - d_loss: -14.4965 - g_loss: 19.3746\n",
      "Epoch 81/150\n",
      "150/150 [==============================] - 23s 150ms/step - d_loss: -14.0209 - g_loss: 32.0339\n",
      "Epoch 82/150\n",
      "150/150 [==============================] - 23s 151ms/step - d_loss: -14.5593 - g_loss: 29.0884\n",
      "Epoch 83/150\n",
      "150/150 [==============================] - 23s 150ms/step - d_loss: -14.2758 - g_loss: 13.8924\n",
      "Epoch 84/150\n",
      "150/150 [==============================] - 23s 150ms/step - d_loss: -14.8995 - g_loss: -13.3920\n",
      "Epoch 85/150\n",
      "150/150 [==============================] - 23s 150ms/step - d_loss: -14.6604 - g_loss: -12.5913\n",
      "Epoch 86/150\n",
      "150/150 [==============================] - 23s 151ms/step - d_loss: -15.4206 - g_loss: -6.7708\n",
      "Epoch 87/150\n",
      "150/150 [==============================] - 23s 151ms/step - d_loss: -13.8074 - g_loss: 2.2121\n",
      "Epoch 88/150\n",
      "150/150 [==============================] - 23s 150ms/step - d_loss: -14.9134 - g_loss: 3.9125\n",
      "Epoch 89/150\n",
      "150/150 [==============================] - 23s 150ms/step - d_loss: -14.7933 - g_loss: 0.2163\n",
      "Epoch 90/150\n",
      "150/150 [==============================] - 23s 150ms/step - d_loss: -15.0146 - g_loss: -7.2942\n",
      "Epoch 91/150\n",
      "150/150 [==============================] - 23s 150ms/step - d_loss: -15.1061 - g_loss: -12.7496\n",
      "Epoch 92/150\n",
      "150/150 [==============================] - 23s 150ms/step - d_loss: -14.8708 - g_loss: -0.5427\n",
      "Epoch 93/150\n",
      "150/150 [==============================] - 23s 150ms/step - d_loss: -15.9777 - g_loss: 1.0388\n",
      "Epoch 94/150\n",
      "150/150 [==============================] - 23s 150ms/step - d_loss: -15.8106 - g_loss: 0.5292\n",
      "Epoch 95/150\n",
      "150/150 [==============================] - 23s 150ms/step - d_loss: -14.6889 - g_loss: 1.6101\n",
      "Epoch 96/150\n",
      "150/150 [==============================] - 23s 150ms/step - d_loss: -15.7265 - g_loss: 2.6740\n",
      "Epoch 97/150\n",
      "150/150 [==============================] - 23s 150ms/step - d_loss: -15.8804 - g_loss: -12.0726\n",
      "Epoch 98/150\n",
      "150/150 [==============================] - 23s 152ms/step - d_loss: -15.4539 - g_loss: -20.2384\n",
      "Epoch 99/150\n",
      "150/150 [==============================] - 23s 151ms/step - d_loss: -15.5353 - g_loss: -17.1648\n",
      "Epoch 100/150\n",
      "150/150 [==============================] - 23s 150ms/step - d_loss: -15.4015 - g_loss: -13.2865\n",
      "Epoch 101/150\n",
      "150/150 [==============================] - 23s 150ms/step - d_loss: -15.5402 - g_loss: 7.8097\n",
      "Epoch 102/150\n",
      "150/150 [==============================] - 23s 150ms/step - d_loss: -15.2594 - g_loss: -2.5429\n",
      "Epoch 103/150\n",
      "150/150 [==============================] - 22s 150ms/step - d_loss: -15.6684 - g_loss: -20.2854\n",
      "Epoch 104/150\n",
      "150/150 [==============================] - 23s 150ms/step - d_loss: -14.6466 - g_loss: -22.6157\n",
      "Epoch 105/150\n",
      "150/150 [==============================] - 23s 150ms/step - d_loss: -15.6875 - g_loss: -23.3374\n",
      "Epoch 106/150\n",
      "150/150 [==============================] - 23s 150ms/step - d_loss: -15.4855 - g_loss: -17.4957\n",
      "Epoch 107/150\n",
      "150/150 [==============================] - 23s 150ms/step - d_loss: -15.4994 - g_loss: -15.8575\n",
      "Epoch 108/150\n",
      "150/150 [==============================] - 22s 150ms/step - d_loss: -15.5525 - g_loss: -10.9065\n",
      "Epoch 109/150\n",
      "150/150 [==============================] - 23s 150ms/step - d_loss: -15.4158 - g_loss: -11.0960\n",
      "Epoch 110/150\n",
      "150/150 [==============================] - 23s 150ms/step - d_loss: -15.7814 - g_loss: -19.0492\n",
      "Epoch 111/150\n",
      "150/150 [==============================] - 23s 151ms/step - d_loss: -15.3610 - g_loss: -25.8971\n",
      "Epoch 112/150\n",
      "150/150 [==============================] - 23s 150ms/step - d_loss: -15.6765 - g_loss: -15.2190\n",
      "Epoch 113/150\n",
      "150/150 [==============================] - 23s 150ms/step - d_loss: -15.7042 - g_loss: -20.6208\n",
      "Epoch 114/150\n",
      "150/150 [==============================] - 23s 150ms/step - d_loss: -16.2601 - g_loss: -19.5909\n",
      "Epoch 115/150\n",
      "150/150 [==============================] - 23s 150ms/step - d_loss: -16.1832 - g_loss: -22.4076\n",
      "Epoch 116/150\n",
      "150/150 [==============================] - 23s 150ms/step - d_loss: -15.9979 - g_loss: -19.2802\n",
      "Epoch 117/150\n",
      "150/150 [==============================] - 23s 150ms/step - d_loss: -16.9175 - g_loss: -21.8103\n",
      "Epoch 118/150\n",
      "150/150 [==============================] - 23s 150ms/step - d_loss: -15.4820 - g_loss: -32.8137\n",
      "Epoch 119/150\n",
      "150/150 [==============================] - 23s 150ms/step - d_loss: -16.0871 - g_loss: -38.3096\n",
      "Epoch 120/150\n",
      "150/150 [==============================] - 23s 150ms/step - d_loss: -16.0893 - g_loss: -31.6401\n",
      "Epoch 121/150\n",
      "150/150 [==============================] - 23s 151ms/step - d_loss: -16.0148 - g_loss: -28.4872\n",
      "Epoch 122/150\n",
      "150/150 [==============================] - 23s 150ms/step - d_loss: -16.7311 - g_loss: -30.8443\n",
      "Epoch 123/150\n",
      "150/150 [==============================] - 23s 150ms/step - d_loss: -15.9492 - g_loss: -22.1392\n",
      "Epoch 124/150\n",
      "150/150 [==============================] - 23s 151ms/step - d_loss: -16.6425 - g_loss: -22.0574\n",
      "Epoch 125/150\n",
      "150/150 [==============================] - 23s 150ms/step - d_loss: -15.8545 - g_loss: -27.3418\n",
      "Epoch 126/150\n",
      "150/150 [==============================] - 22s 150ms/step - d_loss: -16.5583 - g_loss: -32.6448\n",
      "Epoch 127/150\n",
      "150/150 [==============================] - 22s 150ms/step - d_loss: -16.7399 - g_loss: -26.2148\n",
      "Epoch 128/150\n",
      "150/150 [==============================] - 23s 151ms/step - d_loss: -16.6524 - g_loss: -36.7728\n",
      "Epoch 129/150\n",
      "150/150 [==============================] - 23s 150ms/step - d_loss: -16.4851 - g_loss: -39.8739\n",
      "Epoch 130/150\n",
      "150/150 [==============================] - 23s 150ms/step - d_loss: -16.4263 - g_loss: -29.2912\n",
      "Epoch 131/150\n",
      "150/150 [==============================] - 22s 150ms/step - d_loss: -16.6557 - g_loss: -26.2278\n",
      "Epoch 132/150\n",
      "150/150 [==============================] - 23s 150ms/step - d_loss: -16.5743 - g_loss: -16.9131\n",
      "Epoch 133/150\n",
      "150/150 [==============================] - 23s 150ms/step - d_loss: -16.9702 - g_loss: -20.6397\n",
      "Epoch 134/150\n",
      "150/150 [==============================] - 23s 150ms/step - d_loss: -16.7051 - g_loss: -27.4820\n",
      "Epoch 135/150\n",
      "150/150 [==============================] - 23s 151ms/step - d_loss: -16.6293 - g_loss: -16.7696\n",
      "Epoch 136/150\n",
      "150/150 [==============================] - 23s 150ms/step - d_loss: -16.9818 - g_loss: -24.1265\n",
      "Epoch 137/150\n",
      "150/150 [==============================] - 23s 151ms/step - d_loss: -17.0614 - g_loss: -23.4335\n",
      "Epoch 138/150\n",
      "150/150 [==============================] - 23s 150ms/step - d_loss: -16.6575 - g_loss: -22.1307\n",
      "Epoch 139/150\n",
      "150/150 [==============================] - 23s 150ms/step - d_loss: -17.0643 - g_loss: -24.6784\n",
      "Epoch 140/150\n",
      "150/150 [==============================] - 23s 151ms/step - d_loss: -17.0309 - g_loss: -23.5979\n",
      "Epoch 141/150\n",
      "150/150 [==============================] - 23s 151ms/step - d_loss: -17.2239 - g_loss: -23.7798\n",
      "Epoch 142/150\n",
      "150/150 [==============================] - 23s 150ms/step - d_loss: -17.1365 - g_loss: -20.8440\n",
      "Epoch 143/150\n",
      "150/150 [==============================] - 23s 151ms/step - d_loss: -16.4074 - g_loss: -11.1632\n",
      "Epoch 144/150\n",
      "150/150 [==============================] - 23s 151ms/step - d_loss: -16.7822 - g_loss: -10.5833\n",
      "Epoch 145/150\n",
      "150/150 [==============================] - 23s 150ms/step - d_loss: -17.2148 - g_loss: -18.2561\n",
      "Epoch 146/150\n",
      "150/150 [==============================] - 23s 150ms/step - d_loss: -16.7065 - g_loss: -20.2195\n",
      "Epoch 147/150\n",
      "150/150 [==============================] - 22s 150ms/step - d_loss: -16.8322 - g_loss: -22.3783\n",
      "Epoch 148/150\n",
      "150/150 [==============================] - 23s 151ms/step - d_loss: -17.0374 - g_loss: -20.9789\n",
      "Epoch 149/150\n",
      "150/150 [==============================] - 23s 151ms/step - d_loss: -17.5408 - g_loss: -21.3726\n",
      "Epoch 150/150\n",
      "150/150 [==============================] - 23s 151ms/step - d_loss: -17.5660 - g_loss: -20.8554\n"
     ]
    }
   ],
   "source": [
    "history = wgan2d.fit(dataloader, batch_size=batch_size, epochs=150, callbacks=[callback])"
   ]
  },
  {
   "cell_type": "code",
   "execution_count": 19,
   "metadata": {
    "colab": {
     "base_uri": "https://localhost:8080/",
     "height": 265
    },
    "id": "HZVGbxa3EfGO",
    "outputId": "ce70f4b0-108e-4272-eb75-d369fa96298d"
   },
   "outputs": [
    {
     "data": {
      "image/png": "[encoded data removed]",
      "text/plain": [
       "<Figure size 432x288 with 1 Axes>"
      ]
     },
     "metadata": {
      "needs_background": "light"
     },
     "output_type": "display_data"
    }
   ],
   "source": [
    "g_loss_history = history.history['g_loss']\n",
    "d_loss_history = history.history['d_loss']\n",
    "epochs = range(len(d_loss_history))\n",
    "\n",
    "plt.plot(epochs, g_loss_history)\n",
    "plt.plot(epochs, d_loss_history)\n",
    "plt.show()"
   ]
  },
  {
   "cell_type": "markdown",
   "metadata": {
    "id": "YhAhlwQPntIK"
   },
   "source": [
    "## Visualisation"
   ]
  },
  {
   "cell_type": "code",
   "execution_count": 33,
   "metadata": {
    "id": "LvhG71A4nstE"
   },
   "outputs": [],
   "source": [
    "import numpy as np\n",
    "\n",
    "def show_images(array_img, cmap, norm):\n",
    "    # IMAGES\n",
    "    plt.figure(figsize=(10, 5))\n",
    "    plt.axis('off')\n",
    "    slice_h = array_img.numpy().shape[1]\n",
    "    slice_w = array_img.numpy().shape[2]\n",
    "  \n",
    "\n",
    "    size_high_res = (slice_h, slice_w)\n",
    "\n",
    "    plt.imshow(np.argmax(array_img.numpy(), axis=-1).reshape(size_high_res),\n",
    "               interpolation='nearest', cmap=cmap, norm=norm)\n",
    "    plt.show()\n"
   ]
  },
  {
   "cell_type": "code",
   "execution_count": 34,
   "metadata": {
    "colab": {
     "base_uri": "https://localhost:8080/",
     "height": 1000
    },
    "id": "f9InIrWIUvZd",
    "outputId": "700b4ce9-a3f6-49cb-ce83-788545e565fa"
   },
   "outputs": [
    {
     "data": {
      "image/png": "[encoded data removed]",
      "text/plain": [
       "<Figure size 720x360 with 1 Axes>"
      ]
     },
     "metadata": {
      "needs_background": "light"
     },
     "output_type": "display_data"
    },
    {
     "data": {
      "image/png": "[encoded data removed]",
      "text/plain": [
       "<Figure size 720x360 with 1 Axes>"
      ]
     },
     "metadata": {
      "needs_background": "light"
     },
     "output_type": "display_data"
    },
    {
     "data": {
      "image/png": "[encoded data removed]",
      "text/plain": [
       "<Figure size 720x360 with 1 Axes>"
      ]
     },
     "metadata": {
      "needs_background": "light"
     },
     "output_type": "display_data"
    },
    {
     "data": {
      "image/png": "[encoded data removed]",
      "text/plain": [
       "<Figure size 720x360 with 1 Axes>"
      ]
     },
     "metadata": {
      "needs_background": "light"
     },
     "output_type": "display_data"
    },
    {
     "data": {
      "image/png": "[encoded data removed]",
      "text/plain": [
       "<Figure size 720x360 with 1 Axes>"
      ]
     },
     "metadata": {
      "needs_background": "light"
     },
     "output_type": "display_data"
    }
   ],
   "source": [
    "for i in range(5):\n",
    "  random_latent_vectors = generate_noise(1, *noise_shape, 1)\n",
    "  generated_images = g_model(random_latent_vectors, training=True)\n",
    "  show_images(generated_images, cmap=cmap, norm=norm)\n"
   ]
  },
  {
   "cell_type": "code",
   "execution_count": 31,
   "metadata": {
    "colab": {
     "base_uri": "https://localhost:8080/",
     "height": 811
    },
    "id": "8Vc3S1oOjw1w",
    "outputId": "11eb6f3f-af5e-4d08-fff8-aa78d79de41d"
   },
   "outputs": [
    {
     "name": "stdout",
     "output_type": "stream",
     "text": [
      "CPU times: user 3 µs, sys: 0 ns, total: 3 µs\n",
      "Wall time: 5.96 µs\n"
     ]
    },
    {
     "data": {
      "image/png": "[encoded data removed]",
      "text/plain": [
       "<Figure size 2880x2880 with 1 Axes>"
      ]
     },
     "metadata": {
      "needs_background": "light"
     },
     "output_type": "display_data"
    }
   ],
   "source": [
    "# Generation time tests\n",
    "\n",
    "%time\n",
    "random_latent_vectors = generate_noise(1, 32, 64, 1)\n",
    "generated_images = g_model(random_latent_vectors, training=True)\n",
    "visualise_slice(generated_images, cmap, norm, slice_h=generated_images.shape[1], slice_w=generated_images.shape[2])\n"
   ]
  },
  {
   "cell_type": "markdown",
   "metadata": {
    "id": "BaM5V0GwhuE6"
   },
   "source": [
    "## Saving the weights"
   ]
  },
  {
   "cell_type": "code",
   "execution_count": 32,
   "metadata": {
    "colab": {
     "base_uri": "https://localhost:8080/"
    },
    "id": "eqVe_exL3blt",
    "outputId": "914dcc3c-32c3-465c-eb63-648b85f43862"
   },
   "outputs": [
    {
     "name": "stdout",
     "output_type": "stream",
     "text": [
      "./wgan_weights_horiz/\n",
      "./wgan_weights_horiz/cp-wgan2d_horiz.ckpt.data-00000-of-00001\n",
      "./wgan_weights_horiz/checkpoint\n",
      "./wgan_weights_horiz/cp-wgan2d_horiz.ckpt.index\n",
      "./wgen_weights_horiz/\n",
      "./wgen_weights_horiz/cp-wgen2d_horiz.ckpt.index\n",
      "./wgen_weights_horiz/checkpoint\n",
      "./wgen_weights_horiz/cp-wgen2d_horiz.ckpt.data-00000-of-00001\n"
     ]
    }
   ],
   "source": [
    "import os\n",
    "\n",
    "SAVE_AND_TAR_RESULTS_WEIGHTS = True\n",
    "\n",
    "if SAVE_AND_TAR_RESULTS_WEIGHTS:\n",
    "  wgan_checkpoint_path = \"wgan_weights_horiz/cp-wgan2d_horiz.ckpt\"\n",
    "  wgan_checkpoint_dir = os.path.dirname(wgan_checkpoint_path)\n",
    "\n",
    "  wgan2d.save_weights(wgan_checkpoint_path)\n",
    "\n",
    "  !tar -czvf wgan_weights_horiz.tar.gz ./wgan_weights_horiz\n",
    "\n",
    "  gen_checkpoint_path = \"wgen_weights_horiz/cp-wgen2d_horiz.ckpt\"\n",
    "  gen_checkpoint_dir = os.path.dirname(gen_checkpoint_path)\n",
    "\n",
    "  wgan2d.save_weights(gen_checkpoint_path)\n",
    "\n",
    "  !tar -czvf wgen_weights_horiz.tar.gz ./wgen_weights_horiz"
   ]
  }
 ],
 "metadata": {
  "accelerator": "GPU",
  "colab": {
   "include_colab_link": true,
   "name": "wgan2d_horizontal_example.ipynb",
   "provenance": []
  },
  "kernelspec": {
   "display_name": "Python 3",
   "language": "python",
   "name": "python3"
  },
  "language_info": {
   "codemirror_mode": {
    "name": "ipython",
    "version": 3
   },
   "file_extension": ".py",
   "mimetype": "text/x-python",
   "name": "python",
   "nbconvert_exporter": "python",
   "pygments_lexer": "ipython3",
   "version": "3.8.10"
  }
 },
 "nbformat": 4,
 "nbformat_minor": 1
}
