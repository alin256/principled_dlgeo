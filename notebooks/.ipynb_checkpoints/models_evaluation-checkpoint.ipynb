{
 "cells": [
  {
   "cell_type": "markdown",
   "metadata": {
    "colab_type": "text",
    "id": "view-in-github"
   },
   "source": [
    "<a href=\"https://colab.research.google.com/github/Pumafi/flumy-wgan-mines/blob/main/models_evaluation.ipynb\" target=\"_parent\"><img src=\"https://colab.research.google.com/assets/colab-badge.svg\" alt=\"Open In Colab\"/></a>"
   ]
  },
  {
   "cell_type": "code",
   "execution_count": 2,
   "metadata": {
    "colab": {
     "base_uri": "https://localhost:8080/"
    },
    "id": "PqMHekJUambV",
    "outputId": "8579daa9-f2d2-48e6-c3e9-3e527e442373"
   },
   "outputs": [
    {
     "name": "stdout",
     "output_type": "stream",
     "text": [
      "Looking in indexes: https://pypi.org/simple, https://us-python.pkg.dev/colab-wheels/public/simple/\n",
      "Requirement already satisfied: numpy in /usr/local/lib/python3.8/dist-packages (1.24.1)\n"
     ]
    }
   ],
   "source": [
    "!python -m pip install --upgrade numpy"
   ]
  },
  {
   "cell_type": "code",
   "execution_count": null,
   "metadata": {
    "colab": {
     "base_uri": "https://localhost:8080/"
    },
    "id": "3Co1qQ7liSkK",
    "outputId": "4e0bc442-70e8-43ba-954a-ab6d53327f5d"
   },
   "outputs": [],
   "source": [
    "!python -m pip install deel.lip\n",
    "!python -m pip install -i https://test.pypi.org/simple/ gstlearn"
   ]
  },
  {
   "cell_type": "code",
   "execution_count": null,
   "metadata": {},
   "outputs": [],
   "source": [
    "# From the git\n",
    "import sys\n",
    "sys.path.append('..')"
   ]
  },
  {
   "cell_type": "code",
   "execution_count": 4,
   "metadata": {
    "colab": {
     "base_uri": "https://localhost:8080/"
    },
    "id": "822a0005",
    "outputId": "55ece6be-9230-4df1-db2c-2cba8e7c2506"
   },
   "outputs": [
    {
     "name": "stderr",
     "output_type": "stream",
     "text": [
      "/usr/local/lib/python3.8/dist-packages/scipy/__init__.py:146: UserWarning: A NumPy version >=1.16.5 and <1.23.0 is required for this version of SciPy (detected version 1.24.1\n",
      "  warnings.warn(f\"A NumPy version >={np_minversion} and <{np_maxversion}\"\n",
      "/usr/local/lib/python3.8/dist-packages/gstlearn/__init__.py:22572: RuntimeWarning: invalid value encountered in cast\n",
      "  inan = np.asarray(np.array([np.nan]), dtype=int)[0]\n"
     ]
    }
   ],
   "source": [
    "import numpy as np\n",
    "from data.load_data import load_data\n",
    "from models.load_trained_models import load_msgen_horizontal, wgan_horizontal,\\\n",
    "    load_msnwgen_2d_gs_horizontal, load_wgan_gs_horizontal\n",
    "from utils.visualisation import get_color_map\n",
    "from metrics.evaluate_models import compare_models_morpho"
   ]
  },
  {
   "cell_type": "code",
   "execution_count": 5,
   "metadata": {
    "id": "F2pUdyiyc362"
   },
   "outputs": [],
   "source": [
    "from collections import Counter\n",
    "\n",
    "import pandas as pd\n",
    "# Import the PyGeostats Lib, the lib needs to be installed\n",
    "from gstlearn import *\n",
    "\n",
    "\"\"\"\n",
    "Since visual evaluation is flawed, depending on the eye of the observer, we rely on morphological comparison.\n",
    "Most functions here are not directly used, instead the important ones are :\n",
    "'compute_mean_facies_proportions' and 'get_mean_max_connected_components_per_facies'\n",
    "\"\"\"\n",
    "\n",
    "\n",
    "def histogram_over_batch(data):\n",
    "    \"\"\"\n",
    "    Count mean values repartition over a batch of categorical slices and create an histogram.\n",
    "    :param data: an array of data in non-categorical array (only one channel)\n",
    "    \"\"\"\n",
    "    # TODO\n",
    "    return\n",
    "\n",
    "\n",
    "def create_pygeostats_env(flat_slices, slice_dims, ndim, slice_scale=(50, 50), verbose=False):\n",
    "    # Get easier and more explicite size variables\n",
    "\n",
    "    # Geostats shenanigans\n",
    "    grid = DbGrid.create(slice_dims, [0, 0], slice_scale, [], ELoadBy.SAMPLE)\n",
    "    grid.addColumns(flat_slices, \"facies\", ELoc.Z)\n",
    "\n",
    "    if verbose:\n",
    "        grid.display(FLAG_RESUME|FLAG_EXTEND|FLAG_VARS)\n",
    "\n",
    "    return grid\n",
    "\n",
    "\n",
    "def compute_facies_proportions(data, slice_dims, ndim, unique_facies, slice_scale=(50, 50), verbose=False):\n",
    "    \"\"\"\n",
    "    Compute the proportion of each facies in an ensemble of Flumy-like realisations\n",
    "    Args:\n",
    "        data: (ndarray) the images ensemble\n",
    "        slice_dims: (tuple(int)) dimensions of images in the images ensemble\n",
    "        unique_facies: numbers of unique facies in the dataset\n",
    "        ndim: gstlearn parameter\n",
    "        slice_scale: gstlearn parameter\n",
    "        verbose: (bool) whether or not to print the intermediate computed facies proportions\n",
    "    Returns: (ndarray) the computed proportions\n",
    "    \"\"\"\n",
    "    # Get easier and more explicite size variables\n",
    "    arr_flat = data.flatten()\n",
    "\n",
    "    total_size = np.prod(slice_dims)\n",
    "\n",
    "    # Get the geostats env\n",
    "    grid = create_pygeostats_env(arr_flat, slice_dims, ndim,\n",
    "                                                       slice_scale=slice_scale, verbose=verbose)\n",
    "\n",
    "    simu = grid.getColumn('facies')\n",
    "    cnt = Counter(list(simu))\n",
    "    proportions = [100 * cnt[f] / total_size for f in unique_facies]\n",
    "\n",
    "    # Print info if needed\n",
    "    if verbose:\n",
    "        sprops = [\"{:.2f}%\".format(p) for p in proportions]\n",
    "        facs = [\"Fac{}\".format(f) for f in unique_facies]\n",
    "        df = pd.DataFrame({'Facies': facs, 'Proportions': sprops})\n",
    "        print(df.to_string(index=False))\n",
    "\n",
    "    del grid\n",
    "\n",
    "    return proportions\n",
    "\n",
    "\n",
    "def compute_mean_facies_proportions(data, slice_dims, batch_size, ndim, unique_facies, slice_scale=(50, 50), verbose=False):\n",
    "    \"\"\"\n",
    "    Computes the mean proportions of each facies in a ensemble of FLumy-like images.\n",
    "    Args:\n",
    "        data: (ndarray) the image ensemble\n",
    "        slice_dims: (tuple(int)) the images dimensions\n",
    "        batch_size: (int) the number of images in the ensemble\n",
    "        unique_facies: number of unique facies in the images dataset\n",
    "        slice_scale: gstlearn\n",
    "        ndim: gstlearn parameter\n",
    "        verbose: (bool) whether or not to print the intermediate computed proportions\n",
    "    Returns:\n",
    "        the ndarray of mean proportions\n",
    "    \"\"\"\n",
    "    total_proportions = []\n",
    "    for i in range(batch_size):\n",
    "        proportions = compute_facies_proportions(data[i], slice_dims, ndim, unique_facies, slice_scale, verbose)\n",
    "        total_proportions.append(proportions)\n",
    "\n",
    "    total_proportions = np.array(total_proportions)\n",
    "    mean_proportion = np.mean(total_proportions, axis=0)\n",
    "\n",
    "    return mean_proportion\n",
    "\n",
    "\n",
    "def get_connected_components(data, slice_dims, ndim, slice_scale=(50, 50),\n",
    "                             vmin=2.5, vmax=3.5, verbose=False):\n",
    "    \"\"\"\n",
    "    Get the connected components SIZE of each images in the images ensemble. //!\\\\ (No regards to facies type)\n",
    "    Args:\n",
    "        data: (ndarray) the image ensemble\n",
    "        slice_dims: (tuple(int)) the images dimensions\n",
    "        verbose: (bool) whether or not to print the intermediate computed proportions\n",
    "        slice_scale: gstlearn\n",
    "        ndim: gstlearn parameter\n",
    "        vmin:\n",
    "        vmax:\n",
    "    Returns: nd array with the size of each connected components\n",
    "    \"\"\"\n",
    "    arr_flat = data.flatten()\n",
    "\n",
    "    # Get the geostats env\n",
    "    grid = create_pygeostats_env(arr_flat, slice_dims, ndim, slice_scale=slice_scale, verbose=verbose)\n",
    "    compnum = grid.getColumn('facies')\n",
    "    image = morpho_double2image(slice_dims, compnum, vmin, vmax)\n",
    "    compnew = morpho_labelling(0, 0, image, np.nan)\n",
    "    sizes = morpho_labelsize(0, image)\n",
    "    del grid\n",
    "    del compnew\n",
    "    return sizes\n",
    "\n",
    "\n",
    "def get_connected_components_per_facies(data, slice_dims, ndim, unique_facies, slice_scale=(50, 50), verbose=False):\n",
    "    \"\"\"\n",
    "    Get the connected components of each images in the images ensemble PER FACIES.\n",
    "    Args:\n",
    "        data: (ndarray) the image ensemble\n",
    "        slice_dims: (tuple(int)) the images dimensions\n",
    "        verbose: (bool) whether or not to print the intermediate computed proportions\n",
    "        slice_scale: gstlearn\n",
    "        ndim: gstlearn parameter\n",
    "        unique_facies: number of unique facies in the images dataset\n",
    "    Returns: ndarray with the size of each connected components per facies\n",
    "    \"\"\"\n",
    "    arr_flat = data.flatten()\n",
    "\n",
    "    # Get the geostats env\n",
    "    grid = create_pygeostats_env(arr_flat, slice_dims, ndim, slice_scale=slice_scale, verbose=verbose)\n",
    "\n",
    "    eps = 0.5\n",
    "    all_sizes = []\n",
    "    for fac in unique_facies:\n",
    "        vmin = fac - eps\n",
    "        vmax = fac + eps\n",
    "        compnum = grid.getColumn('facies')\n",
    "        image = morpho_double2image(slice_dims, compnum, vmin, vmax)\n",
    "        compnew = morpho_labelling(0, 0, image, np.nan)\n",
    "        #compnew = [np.nan if x == TEST else x for x in compnew]\n",
    "        sizes = morpho_labelsize(0, image)\n",
    "        #print(\"bee\", sizes, print(len(sizes)))\n",
    "        all_sizes.append(sizes)\n",
    "\n",
    "    del grid\n",
    "    del compnew\n",
    "    return all_sizes\n",
    "\n",
    "\n",
    "def get_mean_max_connected_components(data, slice_dims, batch_size, ndim, slice_scale=(50, 50),\n",
    "                                      vmin=2.5, vmax=3.5, verbose=False):\n",
    "    \"\"\"\n",
    "    Args:\n",
    "        data:\n",
    "        slice_dims:\n",
    "        batch_size:\n",
    "        ndim:\n",
    "        slice_scale:\n",
    "        vmin:\n",
    "        vmax:\n",
    "        verbose:\n",
    "    Returns:\n",
    "    \"\"\"\n",
    "    total_sizes = []\n",
    "    for i in range(batch_size):\n",
    "        sizes = get_connected_components(data[i], slice_dims, ndim, slice_scale, vmin, vmax, verbose)\n",
    "        total_sizes += sizes\n",
    "\n",
    "    total_sizes = np.array(total_sizes)\n",
    "    mean_sizes = np.mean(total_sizes)\n",
    "    print(total_sizes.shape)\n",
    "    max_sizes = np.max(total_sizes)\n",
    "    return mean_sizes, max_sizes\n",
    "\n",
    "\n",
    "def get_mean_max_connected_components_per_facies(data, slice_dims, batch_size, ndim, unique_facies, slice_scale=(50, 50),\n",
    "                                                 vmin=2.5, vmax=3.5, verbose=False):\n",
    "    \"\"\"\n",
    "    Args:\n",
    "        data:\n",
    "        slice_dims:\n",
    "        batch_size:\n",
    "        ndim:\n",
    "        unique_facies:\n",
    "        slice_scale:\n",
    "        vmin:\n",
    "        vmax:\n",
    "        verbose:\n",
    "    Returns:\n",
    "    \"\"\"\n",
    "    total_sizes = []\n",
    "    for i in range(batch_size):\n",
    "        #print(\"DEBUUUUG\")\n",
    "        all_sizes = get_connected_components_per_facies(data[i], slice_dims, ndim, unique_facies, slice_scale, verbose)\n",
    "\n",
    "        if len(total_sizes) < 1:\n",
    "            # If the array is empty, fill it so we have one element in the array per facies (1 elmt == 1 facies)\n",
    "            for facies_sizes in all_sizes:\n",
    "                total_sizes.append(facies_sizes)\n",
    "        else:\n",
    "            # Else append to exxisting facies element. This is done so the max is a global max\n",
    "            for i in range(len(total_sizes)):\n",
    "                #print(type(total_sizes[i]))\n",
    "                #print(type(all_sizes[i]))\n",
    "                #total_sizes[i] += all_sizes[i]\n",
    "                #print(\"BEFORE\", total_sizes[i].shape)\n",
    "                total_sizes[i] = np.concatenate((total_sizes[i],  all_sizes[i]), axis=0)\n",
    "                #print(\"AFTER\", total_sizes[i].shape)\n",
    "\n",
    "    mean_facies_sizes = []\n",
    "    max_facies_sizes = []\n",
    "    for facies in total_sizes:\n",
    "\n",
    "        mean_facies_sizes.append(np.mean(facies))\n",
    "        max_facies_sizes.append(np.max(facies))\n",
    "    return mean_facies_sizes, max_facies_sizes, total_sizes"
   ]
  },
  {
   "cell_type": "code",
   "execution_count": 6,
   "metadata": {
    "id": "Hvj76FIRb3FV"
   },
   "outputs": [],
   "source": [
    "import tensorflow as tf\n",
    "import matplotlib.pyplot as plt\n",
    "import numpy as np\n",
    "import pandas as pd\n",
    "import seaborn as sns\n",
    "from utils.utils import generate_noise\n",
    "#from metrics.python_metrics import compute_mean_facies_proportions, get_mean_max_connected_components_per_facies\n",
    "\n",
    "\n",
    "def compare_models_morpho(real_data, models, models_names, facies_ids=None, batch_size=750):\n",
    "    \"\"\"\n",
    "    Compare models using morphological properties using gstlearn. Morphological properties are facies proportions\n",
    "    and the distribution (violin plot) of connected components sizes.\n",
    "    Args:\n",
    "        real_data: (ndarray) The real dataset of images\n",
    "        models: (list(keras.models.Model)) list of models coded in Tensorrflow/Keras\n",
    "        models_names: (list(string)) a list of models names for the models (must be same size as array 'models')\n",
    "        facies_ids: (list(string)) a list of facies IDs names\n",
    "        batch_size: number of images generated by each models (there is no batch size for real data, morph. prop. will\n",
    "                    be computed on the whole dataset)\n",
    "    Returns:\n",
    "        None\n",
    "    \"\"\"\n",
    "    slice_size = (real_data.shape[1], real_data.shape[2])\n",
    "    nb_facies = real_data.shape[-1]\n",
    "    real_dataset_size = real_data.shape[0]\n",
    "\n",
    "    # Array containing unique facies ID\n",
    "    unique_facies = np.array(list(range(0, nb_facies)))\n",
    "\n",
    "    if facies_ids is None:\n",
    "        facies_ids = unique_facies\n",
    "\n",
    "    # Compute it for real data\n",
    "    real_data = np.argmax(real_data, axis=-1).astype(np.float64)\n",
    "    real_mean_proportion = compute_mean_facies_proportions(real_data, slice_size, real_dataset_size, 2, unique_facies)\n",
    "    _, _, real_conn_size = get_mean_max_connected_components_per_facies(real_data, slice_size,\n",
    "                                                                        real_dataset_size, 2, unique_facies)\n",
    "\n",
    "    # Create the dictionaries to keep computed metrics\n",
    "    dict_mean_proportions = {\"Facies ID\": facies_ids, \"Real Data\": real_mean_proportion, }\n",
    "    dict_connected_sizes = {\"Facies ID\": facies_ids, \"Real Data\": real_conn_size, }\n",
    "\n",
    "    for i, model in enumerate(models):\n",
    "        print(models_names[i])\n",
    "        # Generate some realisations using model, then compute morpho metrics\n",
    "        random_noise = tf.Variable(generate_noise(batch_size, 8, 16, 1))\n",
    "        generated_samples = model(random_noise)\n",
    "\n",
    "        if isinstance(generated_samples, list):\n",
    "            # For multi_scales models\n",
    "            generated_samples = generated_samples[-1]\n",
    "\n",
    "        generated_samples = np.argmax(generated_samples, axis=-1).astype(np.float64)\n",
    "\n",
    "        mean_proportion = compute_mean_facies_proportions(generated_samples, slice_size, batch_size, 2, unique_facies)\n",
    "        _, _, ms_total_size = get_mean_max_connected_components_per_facies(generated_samples, slice_size,\n",
    "                                                                           batch_size, 2, unique_facies)\n",
    "\n",
    "        dict_mean_proportions[models_names[i]] = mean_proportion\n",
    "        dict_connected_sizes[models_names[i]] = ms_total_size\n",
    "\n",
    "    # Plot Mean proportion (histogram)\n",
    "    df_mean_prop = pd.DataFrame(data=dict_mean_proportions)\n",
    "    df_mean_prop = pd.melt(df_mean_prop, id_vars=\"Facies ID\", var_name=\"Method\", value_name=\"Mean Facies %\")\n",
    "    sns.catplot(x='Facies ID', y='Mean Facies %', hue=\"Method\", legend=False,\n",
    "                data=df_mean_prop, kind='bar', palette=\"Set2\", alpha=.6, height=4)\n",
    "    plt.legend(loc='upper left', title='Model')\n",
    "    plt.show()\n",
    "\n",
    "    # Plot Mean Connected components size (Violin plot, log scale)\n",
    "    df_conct_size = pd.DataFrame(data=dict_connected_sizes)\n",
    "    df_conct_size = pd.melt(df_conct_size, id_vars=\"Facies ID\", var_name=\"Method\",\n",
    "                            value_name=\"Connected component size (log scale)\")\n",
    "    df_conct_size = df_conct_size.explode(\"Connected component size (log scale)\")\n",
    "    # to log scale otherwise it's unreadable\n",
    "    df_conct_size[\"Connected component size (log scale)\"] = \\\n",
    "        np.log(df_conct_size[\"Connected component size (log scale)\"].astype('float64'))\n",
    "    sns.catplot(x='Facies ID', y='Connected component size (log scale)', hue=\"Method\",\n",
    "                data=df_conct_size, kind='violin', palette=\"Set2\", showfliers=False, legend=False)\n",
    "    plt.legend(loc='upper left', title='Model')\n",
    "    plt.show()\n",
    "\n",
    "    return dict_mean_proportions, dict_connected_sizes"
   ]
  },
  {
   "cell_type": "code",
   "execution_count": 7,
   "metadata": {
    "id": "007740fc"
   },
   "outputs": [],
   "source": [
    "# Useful constants\n",
    "slice_size = (64, 128)\n",
    "cmap, norm = get_color_map(number_of_categories=4)\n",
    "facies_names = np.array([\"Sand, Channel lag\", \"Sand, Point bar\", \"Silts, Levee\", \"Shale, Overbank\"])\n",
    "batch_size = 250"
   ]
  },
  {
   "cell_type": "code",
   "execution_count": 8,
   "metadata": {
    "colab": {
     "base_uri": "https://localhost:8080/"
    },
    "id": "b15262ca",
    "outputId": "4166ceca-5828-4dca-da39-3f9bc7d0b8d0"
   },
   "outputs": [
    {
     "name": "stderr",
     "output_type": "stream",
     "text": [
      "WARNING:tensorflow:Detecting that an object or model or tf.train.Checkpoint is being deleted with unrestored values. See the following logs for the specific values in question. To silence these warnings, use `status.expect_partial()`. See https://www.tensorflow.org/api_docs/python/tf/train/Checkpoint#restorefor details about the status object returned by the restore function.\n",
      "WARNING:tensorflow:Value in checkpoint could not be found in the restored object: (root).d_optimizer.iter\n",
      "WARNING:tensorflow:Value in checkpoint could not be found in the restored object: (root).d_optimizer.beta_1\n",
      "WARNING:tensorflow:Value in checkpoint could not be found in the restored object: (root).d_optimizer.beta_2\n",
      "WARNING:tensorflow:Value in checkpoint could not be found in the restored object: (root).d_optimizer.decay\n",
      "WARNING:tensorflow:Value in checkpoint could not be found in the restored object: (root).d_optimizer.learning_rate\n",
      "WARNING:tensorflow:Value in checkpoint could not be found in the restored object: (root).g_optimizer.iter\n",
      "WARNING:tensorflow:Value in checkpoint could not be found in the restored object: (root).g_optimizer.beta_1\n",
      "WARNING:tensorflow:Value in checkpoint could not be found in the restored object: (root).g_optimizer.beta_2\n",
      "WARNING:tensorflow:Value in checkpoint could not be found in the restored object: (root).g_optimizer.decay\n",
      "WARNING:tensorflow:Value in checkpoint could not be found in the restored object: (root).g_optimizer.learning_rate\n"
     ]
    }
   ],
   "source": [
    "# Load models\n",
    "models_names = [\"MS-GAN with Gaussian Noise\", \"W-GAN-GP\", \"W-GAN-GP with GroupSort\", \"MS-W-GAN-SN with GroupSort\"]\n",
    "ms_gan_2d_horizontal = load_msgen_horizontal(\"./trainedweights/msgen2dh/cp-gen2d_horizontal_good.ckpt\")\n",
    "wgan_2d_horizontal = wgan_horizontal(\"./trainedweights/wgan2d/cp-wgan2d_horiz.ckpt\").generator\n",
    "wgangs_2d_horizontal = load_wgan_gs_horizontal(\"./trainedweights/wgan_gs/cp-snwgen_horizontal_good.ckpt\")\n",
    "#msnw_gan_2d_horizontal = load_mswgen_sn_2d_horizontal()\n",
    "msnw_gan_2d_gs_horizontal = load_msnwgen_2d_gs_horizontal(\"./trainedweights/msnwgen2d_gs/cp-msnwgen_maxsort_horizontal_good.ckpt\")\n",
    "\n",
    "models = [ms_gan_2d_horizontal, wgan_2d_horizontal, wgangs_2d_horizontal, msnw_gan_2d_gs_horizontal]"
   ]
  },
  {
   "cell_type": "code",
   "execution_count": 9,
   "metadata": {
    "id": "909dbc55"
   },
   "outputs": [],
   "source": [
    "x_train = load_data(slice_size[0], slice_size[1], \"./data/horizontal/dataFlumyHoriz.csv\")"
   ]
  },
  {
   "cell_type": "code",
   "execution_count": 10,
   "metadata": {
    "colab": {
     "base_uri": "https://localhost:8080/",
     "height": 722
    },
    "id": "844d18ad",
    "outputId": "441492a1-873e-4fa8-98ff-631b7be5223f"
   },
   "outputs": [
    {
     "name": "stdout",
     "output_type": "stream",
     "text": [
      "MS-GAN with Gaussian Noise\n",
      "W-GAN-GP\n",
      "W-GAN-GP with GroupSort\n",
      "MS-W-GAN-SN with GroupSort\n"
     ]
    },
    {
     "data": {
      "image/png": "[encoded data removed]",
      "text/plain": [
       "<Figure size 288x288 with 1 Axes>"
      ]
     },
     "metadata": {
      "needs_background": "light"
     },
     "output_type": "display_data"
    },
    {
     "data": {
      "image/png": "[encoded data removed]",
      "text/plain": [
       "<Figure size 360x360 with 1 Axes>"
      ]
     },
     "metadata": {
      "needs_background": "light"
     },
     "output_type": "display_data"
    }
   ],
   "source": [
    "# Plot the morpho comparision\n",
    "dict_mean_proportions, dict_connected_sizes = compare_models_morpho(x_train, models, models_names, facies_names, batch_size)"
   ]
  }
 ],
 "metadata": {
  "colab": {
   "include_colab_link": true,
   "machine_shape": "hm",
   "provenance": []
  },
  "gpuClass": "standard",
  "kernelspec": {
   "display_name": "Python 3",
   "language": "python",
   "name": "python3"
  },
  "language_info": {
   "codemirror_mode": {
    "name": "ipython",
    "version": 3
   },
   "file_extension": ".py",
   "mimetype": "text/x-python",
   "name": "python",
   "nbconvert_exporter": "python",
   "pygments_lexer": "ipython3",
   "version": "3.8.10"
  }
 },
 "nbformat": 4,
 "nbformat_minor": 5
}
