{
 "cells": [
  {
   "cell_type": "markdown",
   "metadata": {
    "colab_type": "text",
    "id": "view-in-github"
   },
   "source": [
    "<a href=\"https://colab.research.google.com/github/Pumafi/flumy-wgan-mines/blob/main/wgan2d_gs_horizontal_example.ipynb\" target=\"_parent\"><img src=\"https://colab.research.google.com/assets/colab-badge.svg\" alt=\"Open In Colab\"/></a>"
   ]
  },
  {
   "cell_type": "markdown",
   "metadata": {
    "id": "I86cGpU7BzZc"
   },
   "source": [
    "# Wasserstein GAN with Spectral Norm and MaxSort Activation (WGAN-GS)"
   ]
  },
  {
   "cell_type": "code",
   "execution_count": null,
   "metadata": {
    "colab": {
     "base_uri": "https://localhost:8080/"
    },
    "id": "Le5-Vt0-mMfd",
    "outputId": "39b1448e-7785-4dfc-98e6-9b33d75b1902"
   },
   "outputs": [],
   "source": [
    "# From the git\n",
    "import sys\n",
    "sys.path.append('..')"
   ]
  },
  {
   "cell_type": "code",
   "execution_count": null,
   "metadata": {
    "id": "OZuCjVFpVa29"
   },
   "outputs": [],
   "source": [
    "!python3 -m pip install deel.lip "
   ]
  },
  {
   "cell_type": "code",
   "execution_count": null,
   "metadata": {
    "id": "4gb9PaarB1sv"
   },
   "outputs": [],
   "source": [
    "from tensorflow import keras\n",
    "import tensorflow as tf\n",
    "\n",
    "from models.wgan_gs.wgs_generator import WassersteinGSGenerator\n",
    "from models.wgan_gs.wgs_discriminator import get_wgs_discriminator_model\n",
    "from models.wgan_gs.wgs_gan2d import WassersteinGANGS\n",
    "from utils.callbacks import CheckpointSaving, GANMonitor\n",
    "\n",
    "import matplotlib.pyplot as plt\n",
    "from utils.visualisation import get_color_map, visualise_slice, visualise_slice_components, paint_image\n",
    "from utils.utils import generate_noise\n",
    "from data.load_data import load_data, DataGenerator"
   ]
  },
  {
   "cell_type": "markdown",
   "metadata": {
    "id": "VAEJUKYKCIfY"
   },
   "source": [
    "## Data  \n",
    "Load the data and create a Data Generator"
   ]
  },
  {
   "cell_type": "code",
   "execution_count": null,
   "metadata": {
    "id": "zQ_Litz-B33A"
   },
   "outputs": [],
   "source": [
    "slice_size = (64, 128, 4)\n",
    "batch_size = 20\n",
    "noise_shape = (8, 16)"
   ]
  },
  {
   "cell_type": "code",
   "execution_count": null,
   "metadata": {
    "id": "D3qDsUf2B5Ec"
   },
   "outputs": [],
   "source": [
    "# Horizontal data is 64x128\n",
    "# We made the latent space size relative to the output size, such that no resize\n",
    "# are necessary, only upsamples\n",
    "\n",
    "x_train = load_data(slice_size[0], slice_size[1], \"./data/horizontal/dataFlumyHoriz.csv\")\n",
    "dataloader = DataGenerator(x_train, batch_size, slice_size)"
   ]
  },
  {
   "cell_type": "markdown",
   "metadata": {
    "id": "tFT65Mp9CcMz"
   },
   "source": [
    "## Generator and Discriminator Models"
   ]
  },
  {
   "cell_type": "code",
   "execution_count": null,
   "metadata": {
    "colab": {
     "base_uri": "https://localhost:8080/"
    },
    "id": "nB2EJ0A5ne4X",
    "outputId": "ea1c8571-7550-41c8-a9ee-fd274f0862bc"
   },
   "outputs": [
    {
     "name": "stdout",
     "output_type": "stream",
     "text": [
      "Model: \"wasserstein_gs_generator_3\"\n",
      "_________________________________________________________________\n",
      " Layer (type)                Output Shape              Param #   \n",
      "=================================================================\n",
      " generator_initial_3 (Genera  multiple                 56        \n",
      " torInitial)                                                     \n",
      "                                                                 \n",
      " generator_block_9 (Generato  multiple                 39552     \n",
      " rBlock)                                                         \n",
      "                                                                 \n",
      " generator_block_10 (Generat  multiple                 27840     \n",
      " orBlock)                                                        \n",
      "                                                                 \n",
      " generator_block_11 (Generat  multiple                 7008      \n",
      " orBlock)                                                        \n",
      "                                                                 \n",
      " last_generator_block_3 (Las  multiple                 744       \n",
      " tGeneratorBlock)                                                \n",
      "                                                                 \n",
      "=================================================================\n",
      "Total params: 75,200\n",
      "Trainable params: 74,960\n",
      "Non-trainable params: 240\n",
      "_________________________________________________________________\n"
     ]
    }
   ],
   "source": [
    "g_model = WassersteinGSGenerator(output_dims=slice_size)\n",
    "g_model.build([None, *noise_shape, 1])\n",
    "generator_optimizer = keras.optimizers.Adam(learning_rate=5e-4, beta_1=0.5, beta_2=0.99)\n",
    "g_model.summary()"
   ]
  },
  {
   "cell_type": "code",
   "execution_count": null,
   "metadata": {
    "colab": {
     "base_uri": "https://localhost:8080/"
    },
    "id": "kDTi_Qklngmn",
    "outputId": "ee8f8061-9e51-4c86-e47a-056681062102"
   },
   "outputs": [
    {
     "name": "stdout",
     "output_type": "stream",
     "text": [
      "Model: \"discriminator\"\n",
      "_________________________________________________________________\n",
      " Layer (type)                Output Shape              Param #   \n",
      "=================================================================\n",
      " input_2 (InputLayer)        [(None, 64, 128, 4)]      0         \n",
      "                                                                 \n",
      " initial_discriminator_block  (None, 32, 64, 64)       2960      \n",
      " _1 (InitialDiscriminatorBlo                                     \n",
      " ck)                                                             \n",
      "                                                                 \n",
      " discriminator_block_3 (Disc  (None, 16, 32, 128)      28032     \n",
      " riminatorBlock)                                                 \n",
      "                                                                 \n",
      " discriminator_block_4 (Disc  (None, 8, 16, 256)       111360    \n",
      " riminatorBlock)                                                 \n",
      "                                                                 \n",
      " discriminator_block_5 (Disc  (None, 8, 16, 128)       443904    \n",
      " riminatorBlock)                                                 \n",
      "                                                                 \n",
      " final_discriminator_block_1  ()                       888578    \n",
      "  (FinalDiscriminatorBlock)                                      \n",
      "                                                                 \n",
      "=================================================================\n",
      "Total params: 1,474,834\n",
      "Trainable params: 1,472,681\n",
      "Non-trainable params: 2,153\n",
      "_________________________________________________________________\n"
     ]
    }
   ],
   "source": [
    "d_model = get_wgs_discriminator_model(slice_size)\n",
    "discriminator_optimizer = keras.optimizers.Adam(learning_rate=1e-4, beta_1=0.5, beta_2=0.99)\n",
    "d_model.summary()"
   ]
  },
  {
   "cell_type": "markdown",
   "metadata": {
    "id": "oK3ocyykCglU"
   },
   "source": [
    "## WGAN model"
   ]
  },
  {
   "cell_type": "code",
   "execution_count": null,
   "metadata": {
    "id": "wh_9yZn8nia4"
   },
   "outputs": [],
   "source": [
    "# Instantiate the WGAN model.\n",
    "wgan2d = WassersteinGANGS(\n",
    "    discriminator=d_model,\n",
    "    generator=g_model,\n",
    "    latent_shape=(8, 16, 1),\n",
    "    discriminator_extra_steps=3, # More tests could be done on the right amount of extra steps\n",
    ")\n",
    "\n",
    "wgan2d.compile(d_optimizer=discriminator_optimizer, g_optimizer=generator_optimizer)"
   ]
  },
  {
   "cell_type": "markdown",
   "metadata": {
    "id": "HzOmc1RvCoRW"
   },
   "source": [
    "## Training"
   ]
  },
  {
   "cell_type": "code",
   "execution_count": null,
   "metadata": {
    "id": "Qd4_upXQjw1s"
   },
   "outputs": [],
   "source": [
    "# If we want to import a trained model, depends on what tests we need\n",
    "\n",
    "from models.load_trained_models import wgan_horizontal\n",
    "LOAD_WEIGHTS = False\n",
    "\n",
    "if LOAD_WEIGHTS:\n",
    "  wgan_2d = wgan_horizontal(\"./trainedweights/wgan2d/cp-wgan2d_horiz_good.ckpt\")\n",
    "  g_model = wgan_2d.generator\n",
    "  print(\"Successfully loaded model\")"
   ]
  },
  {
   "cell_type": "code",
   "execution_count": null,
   "metadata": {
    "id": "k08tvWU_nnuT"
   },
   "outputs": [],
   "source": [
    "epochs = 150\n",
    "\n",
    "cmap, norm = get_color_map(number_of_categories=4)\n",
    "callback=GANMonitor(\n",
    "    latent_shape=noise_shape,\n",
    "    cmap=cmap,\n",
    "    norm=norm,\n",
    "    slice_h=64,\n",
    "    slice_w=128,\n",
    "    num_random_img=2\n",
    ")\n",
    "\n",
    "#checkpoint = CheckpointSaving()\n",
    "\n"
   ]
  },
  {
   "cell_type": "code",
   "execution_count": 21,
   "metadata": {
    "colab": {
     "base_uri": "https://localhost:8080/"
    },
    "id": "p0vY26_SE8HS",
    "outputId": "2aa2c40d-11f8-46e0-b8b0-e7487a8523de"
   },
   "outputs": [
    {
     "name": "stdout",
     "output_type": "stream",
     "text": [
      "Epoch 1/150\n",
      "150/150 [==============================] - 117s 778ms/step - d_loss: -8756.2798 - g_loss: 7806.1532\n",
      "Epoch 2/150\n",
      "150/150 [==============================] - 116s 772ms/step - d_loss: -9222.3505 - g_loss: 7624.6070\n",
      "Epoch 3/150\n",
      "150/150 [==============================] - 117s 778ms/step - d_loss: -8367.7496 - g_loss: 6426.8367\n",
      "Epoch 4/150\n",
      "150/150 [==============================] - 116s 772ms/step - d_loss: -9890.2954 - g_loss: 9825.6881\n",
      "Epoch 5/150\n",
      "150/150 [==============================] - 115s 767ms/step - d_loss: -9959.6345 - g_loss: 9963.7349\n",
      "Epoch 6/150\n",
      "150/150 [==============================] - 115s 765ms/step - d_loss: -7174.8214 - g_loss: 6373.2483\n",
      "Epoch 7/150\n",
      "150/150 [==============================] - 115s 766ms/step - d_loss: -7865.4577 - g_loss: 5833.3347\n",
      "Epoch 8/150\n",
      "150/150 [==============================] - 115s 764ms/step - d_loss: -7662.0938 - g_loss: 5467.0348\n",
      "Epoch 9/150\n",
      "150/150 [==============================] - 115s 764ms/step - d_loss: -7835.1066 - g_loss: 5593.0822\n",
      "Epoch 10/150\n",
      "150/150 [==============================] - 115s 764ms/step - d_loss: -7466.5149 - g_loss: 5218.8329\n",
      "Epoch 11/150\n",
      "150/150 [==============================] - 115s 768ms/step - d_loss: -7697.4918 - g_loss: 5495.8706\n",
      "Epoch 12/150\n",
      "150/150 [==============================] - 114s 760ms/step - d_loss: -7603.5131 - g_loss: 5497.0784\n",
      "Epoch 13/150\n",
      "150/150 [==============================] - 115s 765ms/step - d_loss: -6717.0032 - g_loss: 4555.7864\n",
      "Epoch 14/150\n",
      "150/150 [==============================] - 114s 763ms/step - d_loss: -6146.8710 - g_loss: 4455.7797\n",
      "Epoch 15/150\n",
      "150/150 [==============================] - 114s 761ms/step - d_loss: -5388.0489 - g_loss: 3438.2210\n",
      "Epoch 16/150\n",
      "150/150 [==============================] - 115s 767ms/step - d_loss: -5313.4998 - g_loss: 3634.6599\n",
      "Epoch 17/150\n",
      "150/150 [==============================] - 115s 765ms/step - d_loss: -3369.6154 - g_loss: 2455.6998\n",
      "Epoch 18/150\n",
      "150/150 [==============================] - 114s 762ms/step - d_loss: -3891.3777 - g_loss: 2841.9978\n",
      "Epoch 19/150\n",
      "150/150 [==============================] - 115s 765ms/step - d_loss: -3773.5722 - g_loss: 2442.3127\n",
      "Epoch 20/150\n",
      "150/150 [==============================] - 114s 763ms/step - d_loss: -3766.1732 - g_loss: 2706.8360\n",
      "Epoch 21/150\n",
      "150/150 [==============================] - 113s 756ms/step - d_loss: -3795.1911 - g_loss: 2796.0877\n",
      "Epoch 22/150\n",
      "150/150 [==============================] - 115s 765ms/step - d_loss: -4009.1725 - g_loss: 2719.1740\n",
      "Epoch 23/150\n",
      "150/150 [==============================] - 114s 762ms/step - d_loss: -3864.3043 - g_loss: 2633.9017\n",
      "Epoch 24/150\n",
      "150/150 [==============================] - 114s 759ms/step - d_loss: -3581.1055 - g_loss: 2427.0611\n",
      "Epoch 25/150\n",
      "150/150 [==============================] - 114s 760ms/step - d_loss: -3742.8562 - g_loss: 2868.1588\n",
      "Epoch 26/150\n",
      "150/150 [==============================] - 114s 761ms/step - d_loss: -3906.9695 - g_loss: 3080.2541\n",
      "Epoch 27/150\n",
      "150/150 [==============================] - 114s 763ms/step - d_loss: -3477.2683 - g_loss: 2437.0166\n",
      "Epoch 28/150\n",
      "150/150 [==============================] - 114s 759ms/step - d_loss: -3699.3937 - g_loss: 2742.4328\n",
      "Epoch 29/150\n",
      "150/150 [==============================] - 114s 762ms/step - d_loss: -3632.9349 - g_loss: 2733.2890\n",
      "Epoch 30/150\n",
      "150/150 [==============================] - 114s 761ms/step - d_loss: -3830.7723 - g_loss: 2845.9438\n",
      "Epoch 31/150\n",
      "150/150 [==============================] - 114s 762ms/step - d_loss: -3761.4547 - g_loss: 2702.2648\n",
      "Epoch 32/150\n",
      "150/150 [==============================] - 114s 759ms/step - d_loss: -3472.0595 - g_loss: 2265.6406\n",
      "Epoch 33/150\n",
      "150/150 [==============================] - 114s 763ms/step - d_loss: -3574.8217 - g_loss: 2472.5591\n",
      "Epoch 34/150\n",
      "150/150 [==============================] - 114s 762ms/step - d_loss: -3870.8070 - g_loss: 2696.2039\n",
      "Epoch 35/150\n",
      "150/150 [==============================] - 112s 750ms/step - d_loss: -3713.2187 - g_loss: 2700.9004\n",
      "Epoch 36/150\n",
      "150/150 [==============================] - 111s 743ms/step - d_loss: -3683.7699 - g_loss: 2474.5024\n",
      "Epoch 37/150\n",
      "150/150 [==============================] - 112s 746ms/step - d_loss: -3691.8284 - g_loss: 2616.1251\n",
      "Epoch 38/150\n",
      "150/150 [==============================] - 112s 746ms/step - d_loss: -3996.9700 - g_loss: 2786.2362\n",
      "Epoch 39/150\n",
      "150/150 [==============================] - 111s 741ms/step - d_loss: -4291.2617 - g_loss: 3114.2010\n",
      "Epoch 40/150\n",
      "150/150 [==============================] - 112s 744ms/step - d_loss: -3979.4560 - g_loss: 2791.0681\n",
      "Epoch 41/150\n",
      "150/150 [==============================] - 112s 744ms/step - d_loss: -3994.9736 - g_loss: 2782.1395\n",
      "Epoch 42/150\n",
      "150/150 [==============================] - 111s 742ms/step - d_loss: -3663.4867 - g_loss: 2703.2319\n",
      "Epoch 43/150\n",
      "150/150 [==============================] - 112s 745ms/step - d_loss: -3727.2794 - g_loss: 2701.7965\n",
      "Epoch 44/150\n",
      "150/150 [==============================] - 112s 745ms/step - d_loss: -3849.2987 - g_loss: 2594.9688\n",
      "Epoch 45/150\n",
      "150/150 [==============================] - 112s 745ms/step - d_loss: -3891.4345 - g_loss: 2786.4833\n",
      "Epoch 46/150\n",
      "150/150 [==============================] - 114s 759ms/step - d_loss: -3976.1956 - g_loss: 2795.2746\n",
      "Epoch 47/150\n",
      "150/150 [==============================] - 113s 756ms/step - d_loss: -3934.7670 - g_loss: 2931.4206\n",
      "Epoch 48/150\n",
      "150/150 [==============================] - 113s 755ms/step - d_loss: -3972.2860 - g_loss: 2690.2885\n",
      "Epoch 49/150\n",
      "150/150 [==============================] - 113s 755ms/step - d_loss: -4078.3476 - g_loss: 2870.1346\n",
      "Epoch 50/150\n",
      "150/150 [==============================] - 113s 756ms/step - d_loss: -4298.1241 - g_loss: 3131.5722\n",
      "Epoch 51/150\n",
      "150/150 [==============================] - 113s 756ms/step - d_loss: -4266.1119 - g_loss: 3214.1578\n",
      "Epoch 52/150\n",
      "150/150 [==============================] - 113s 756ms/step - d_loss: -4219.8725 - g_loss: 3119.2103\n",
      "Epoch 53/150\n",
      "150/150 [==============================] - 114s 757ms/step - d_loss: -4022.3780 - g_loss: 2903.9703\n",
      "Epoch 54/150\n",
      "150/150 [==============================] - 114s 757ms/step - d_loss: -4206.5856 - g_loss: 3049.5305\n",
      "Epoch 55/150\n",
      "150/150 [==============================] - 114s 758ms/step - d_loss: -3968.4040 - g_loss: 2943.2685\n",
      "Epoch 56/150\n",
      "150/150 [==============================] - 113s 756ms/step - d_loss: -3958.8804 - g_loss: 2812.2646\n",
      "Epoch 57/150\n",
      "150/150 [==============================] - 114s 757ms/step - d_loss: -3952.2778 - g_loss: 2788.4995\n",
      "Epoch 58/150\n",
      "150/150 [==============================] - 114s 757ms/step - d_loss: -3964.7136 - g_loss: 2983.2528\n",
      "Epoch 59/150\n",
      "150/150 [==============================] - 113s 755ms/step - d_loss: -3823.2272 - g_loss: 2734.0067\n",
      "Epoch 60/150\n",
      "150/150 [==============================] - 113s 756ms/step - d_loss: -3800.7805 - g_loss: 2583.4349\n",
      "Epoch 61/150\n",
      "150/150 [==============================] - 114s 760ms/step - d_loss: -3889.2519 - g_loss: 3132.0378\n",
      "Epoch 62/150\n",
      "150/150 [==============================] - 114s 759ms/step - d_loss: -4009.0280 - g_loss: 2919.9188\n",
      "Epoch 63/150\n",
      "150/150 [==============================] - 113s 756ms/step - d_loss: -3865.9962 - g_loss: 2806.9085\n",
      "Epoch 64/150\n",
      "150/150 [==============================] - 114s 759ms/step - d_loss: -3945.1302 - g_loss: 2719.4169\n",
      "Epoch 65/150\n",
      "150/150 [==============================] - 114s 757ms/step - d_loss: -3985.3706 - g_loss: 2925.1963\n",
      "Epoch 66/150\n",
      "150/150 [==============================] - 113s 756ms/step - d_loss: -3886.2968 - g_loss: 2726.7700\n",
      "Epoch 67/150\n",
      "150/150 [==============================] - 113s 754ms/step - d_loss: -3798.3607 - g_loss: 2803.5693\n",
      "Epoch 68/150\n",
      "150/150 [==============================] - 114s 756ms/step - d_loss: -3786.0552 - g_loss: 2798.4467\n",
      "Epoch 69/150\n",
      "150/150 [==============================] - 115s 764ms/step - d_loss: -4043.6604 - g_loss: 3034.6307\n",
      "Epoch 70/150\n",
      "150/150 [==============================] - 115s 764ms/step - d_loss: -4011.8153 - g_loss: 2996.4617\n",
      "Epoch 71/150\n",
      "150/150 [==============================] - 114s 758ms/step - d_loss: -4079.0893 - g_loss: 2871.4003\n",
      "Epoch 72/150\n",
      "150/150 [==============================] - 113s 756ms/step - d_loss: -3989.7708 - g_loss: 2908.3705\n",
      "Epoch 73/150\n",
      "150/150 [==============================] - 114s 757ms/step - d_loss: -4001.0532 - g_loss: 2758.7918\n",
      "Epoch 74/150\n",
      "150/150 [==============================] - 114s 758ms/step - d_loss: -3928.6179 - g_loss: 2870.4398\n",
      "Epoch 75/150\n",
      "150/150 [==============================] - 113s 756ms/step - d_loss: -3966.5898 - g_loss: 2834.1091\n",
      "Epoch 76/150\n",
      "150/150 [==============================] - 114s 762ms/step - d_loss: -4217.7128 - g_loss: 3005.7239\n",
      "Epoch 77/150\n",
      "150/150 [==============================] - 114s 757ms/step - d_loss: -3898.2507 - g_loss: 2883.5664\n",
      "Epoch 78/150\n",
      "150/150 [==============================] - 113s 756ms/step - d_loss: -3933.7948 - g_loss: 2747.3300\n",
      "Epoch 79/150\n",
      "150/150 [==============================] - 114s 759ms/step - d_loss: -4054.2821 - g_loss: 2916.9139\n",
      "Epoch 80/150\n",
      "150/150 [==============================] - 114s 760ms/step - d_loss: -3978.6042 - g_loss: 2844.0435\n",
      "Epoch 81/150\n",
      "150/150 [==============================] - 114s 759ms/step - d_loss: -4227.7527 - g_loss: 2977.8725\n",
      "Epoch 82/150\n",
      "150/150 [==============================] - 114s 758ms/step - d_loss: -3867.2958 - g_loss: 2598.9020\n",
      "Epoch 83/150\n",
      "150/150 [==============================] - 114s 761ms/step - d_loss: -4010.1719 - g_loss: 2664.3167\n",
      "Epoch 84/150\n",
      "150/150 [==============================] - 114s 759ms/step - d_loss: -4025.2022 - g_loss: 2784.8337\n",
      "Epoch 85/150\n",
      "150/150 [==============================] - 114s 763ms/step - d_loss: -3855.1585 - g_loss: 2552.6185\n",
      "Epoch 86/150\n",
      "150/150 [==============================] - 114s 763ms/step - d_loss: -3797.1621 - g_loss: 2606.0937\n",
      "Epoch 87/150\n",
      "150/150 [==============================] - 113s 755ms/step - d_loss: -3842.4777 - g_loss: 2673.4569\n",
      "Epoch 88/150\n",
      "150/150 [==============================] - 114s 762ms/step - d_loss: -3968.5261 - g_loss: 2790.1882\n",
      "Epoch 89/150\n",
      "150/150 [==============================] - 114s 761ms/step - d_loss: -3954.4978 - g_loss: 2929.8589\n",
      "Epoch 90/150\n",
      "150/150 [==============================] - 114s 762ms/step - d_loss: -3903.3683 - g_loss: 2732.8218\n",
      "Epoch 91/150\n",
      "150/150 [==============================] - 114s 762ms/step - d_loss: -3962.9218 - g_loss: 2620.4461\n",
      "Epoch 92/150\n",
      "150/150 [==============================] - 114s 758ms/step - d_loss: -3950.6693 - g_loss: 2962.0543\n",
      "Epoch 93/150\n",
      "150/150 [==============================] - 114s 762ms/step - d_loss: -3950.8345 - g_loss: 2721.9180\n",
      "Epoch 94/150\n",
      "150/150 [==============================] - 114s 762ms/step - d_loss: -4223.3459 - g_loss: 3015.2422\n",
      "Epoch 95/150\n",
      "150/150 [==============================] - 115s 764ms/step - d_loss: -4234.3994 - g_loss: 2935.5683\n",
      "Epoch 96/150\n",
      "150/150 [==============================] - 114s 763ms/step - d_loss: -4356.0447 - g_loss: 2834.6560\n",
      "Epoch 97/150\n",
      "150/150 [==============================] - 115s 765ms/step - d_loss: -4227.0318 - g_loss: 2940.8094\n",
      "Epoch 98/150\n",
      "150/150 [==============================] - 114s 757ms/step - d_loss: -4201.2539 - g_loss: 2974.7347\n",
      "Epoch 99/150\n",
      "150/150 [==============================] - 114s 763ms/step - d_loss: -4029.2405 - g_loss: 3104.6047\n",
      "Epoch 100/150\n",
      "150/150 [==============================] - 114s 760ms/step - d_loss: -4518.8686 - g_loss: 3140.9029\n",
      "Epoch 101/150\n",
      "150/150 [==============================] - 114s 760ms/step - d_loss: -4264.6880 - g_loss: 2837.2445\n",
      "Epoch 102/150\n",
      "150/150 [==============================] - 115s 766ms/step - d_loss: -4174.6911 - g_loss: 2977.3621\n",
      "Epoch 103/150\n",
      "150/150 [==============================] - 115s 768ms/step - d_loss: -4190.0388 - g_loss: 2997.7554\n",
      "Epoch 104/150\n",
      "150/150 [==============================] - 114s 757ms/step - d_loss: -4176.1276 - g_loss: 2931.2000\n",
      "Epoch 105/150\n",
      "150/150 [==============================] - 115s 770ms/step - d_loss: -4364.3585 - g_loss: 2888.7893\n",
      "Epoch 106/150\n",
      "150/150 [==============================] - 115s 765ms/step - d_loss: -4160.0752 - g_loss: 2941.2877\n",
      "Epoch 107/150\n",
      "150/150 [==============================] - 115s 765ms/step - d_loss: -4494.3365 - g_loss: 3040.1482\n",
      "Epoch 108/150\n",
      "150/150 [==============================] - 114s 763ms/step - d_loss: -4312.7739 - g_loss: 3037.2805\n",
      "Epoch 109/150\n",
      "150/150 [==============================] - 115s 768ms/step - d_loss: -4336.2295 - g_loss: 2923.6668\n",
      "Epoch 110/150\n",
      "150/150 [==============================] - 114s 762ms/step - d_loss: -4223.2006 - g_loss: 2748.9829\n",
      "Epoch 111/150\n",
      "150/150 [==============================] - 114s 757ms/step - d_loss: -4079.0965 - g_loss: 2798.9220\n",
      "Epoch 112/150\n",
      "150/150 [==============================] - 114s 760ms/step - d_loss: -4301.7573 - g_loss: 2847.1754\n",
      "Epoch 113/150\n",
      "150/150 [==============================] - 114s 762ms/step - d_loss: -4163.3655 - g_loss: 2802.4304\n",
      "Epoch 114/150\n",
      "150/150 [==============================] - 114s 763ms/step - d_loss: -4014.6016 - g_loss: 2622.7331\n",
      "Epoch 115/150\n",
      "150/150 [==============================] - 114s 761ms/step - d_loss: -4169.1083 - g_loss: 3007.3721\n",
      "Epoch 116/150\n",
      "150/150 [==============================] - 114s 763ms/step - d_loss: -4090.5703 - g_loss: 2772.7263\n",
      "Epoch 117/150\n",
      "150/150 [==============================] - 114s 762ms/step - d_loss: -4079.3885 - g_loss: 2544.8928\n",
      "Epoch 118/150\n",
      "150/150 [==============================] - 114s 758ms/step - d_loss: -3848.5149 - g_loss: 2515.5084\n",
      "Epoch 119/150\n",
      "150/150 [==============================] - 115s 764ms/step - d_loss: -3899.3685 - g_loss: 2801.0731\n",
      "Epoch 120/150\n",
      "150/150 [==============================] - 114s 760ms/step - d_loss: -4024.3413 - g_loss: 2759.3631\n",
      "Epoch 121/150\n",
      "150/150 [==============================] - 114s 762ms/step - d_loss: -4233.7827 - g_loss: 2765.5783\n",
      "Epoch 122/150\n",
      "150/150 [==============================] - 114s 758ms/step - d_loss: -3947.8768 - g_loss: 2885.4848\n",
      "Epoch 123/150\n",
      "150/150 [==============================] - 115s 763ms/step - d_loss: -4269.0163 - g_loss: 2896.9807\n",
      "Epoch 124/150\n",
      "150/150 [==============================] - 115s 766ms/step - d_loss: -4345.4100 - g_loss: 3030.6559\n",
      "Epoch 125/150\n",
      "150/150 [==============================] - 114s 763ms/step - d_loss: -4235.2129 - g_loss: 2880.9455\n",
      "Epoch 126/150\n",
      "150/150 [==============================] - 114s 758ms/step - d_loss: -4135.8198 - g_loss: 2891.2865\n",
      "Epoch 127/150\n",
      "150/150 [==============================] - 115s 769ms/step - d_loss: -4259.9722 - g_loss: 2777.6952\n",
      "Epoch 128/150\n",
      "150/150 [==============================] - 114s 762ms/step - d_loss: -4334.8046 - g_loss: 2871.7802\n",
      "Epoch 129/150\n",
      "150/150 [==============================] - 115s 764ms/step - d_loss: -4189.7412 - g_loss: 2595.3838\n",
      "Epoch 130/150\n",
      "150/150 [==============================] - 115s 764ms/step - d_loss: -3519.1039 - g_loss: 2387.9804\n",
      "Epoch 131/150\n",
      "150/150 [==============================] - 115s 768ms/step - d_loss: -4187.4737 - g_loss: 2889.3525\n",
      "Epoch 132/150\n",
      "150/150 [==============================] - 116s 770ms/step - d_loss: -4204.6907 - g_loss: 2740.2701\n",
      "Epoch 133/150\n",
      "150/150 [==============================] - 116s 775ms/step - d_loss: -4186.1993 - g_loss: 2710.5184\n",
      "Epoch 134/150\n",
      "150/150 [==============================] - 115s 766ms/step - d_loss: -3997.4140 - g_loss: 2601.2886\n",
      "Epoch 135/150\n",
      "150/150 [==============================] - 115s 766ms/step - d_loss: -4062.3816 - g_loss: 2957.8755\n",
      "Epoch 136/150\n",
      "150/150 [==============================] - 115s 765ms/step - d_loss: -4092.0942 - g_loss: 2694.6094\n",
      "Epoch 137/150\n",
      "150/150 [==============================] - 114s 763ms/step - d_loss: -4141.7688 - g_loss: 2824.6978\n",
      "Epoch 138/150\n",
      "150/150 [==============================] - 115s 765ms/step - d_loss: -3979.9839 - g_loss: 2727.9357\n",
      "Epoch 139/150\n",
      "150/150 [==============================] - 114s 762ms/step - d_loss: -3840.5193 - g_loss: 2588.8636\n",
      "Epoch 140/150\n",
      "150/150 [==============================] - 114s 760ms/step - d_loss: -4115.5885 - g_loss: 3038.8819\n",
      "Epoch 141/150\n",
      "150/150 [==============================] - 115s 766ms/step - d_loss: -4066.1967 - g_loss: 2812.2011\n",
      "Epoch 142/150\n",
      "150/150 [==============================] - 114s 761ms/step - d_loss: -4037.9840 - g_loss: 2518.1595\n",
      "Epoch 143/150\n",
      "150/150 [==============================] - 114s 759ms/step - d_loss: -3962.0760 - g_loss: 3036.5789\n",
      "Epoch 144/150\n",
      "150/150 [==============================] - 115s 764ms/step - d_loss: -3808.4447 - g_loss: 2457.2720\n",
      "Epoch 145/150\n",
      "150/150 [==============================] - 113s 754ms/step - d_loss: -4311.6799 - g_loss: 2903.3514\n",
      "Epoch 146/150\n",
      "150/150 [==============================] - 115s 765ms/step - d_loss: -4097.3441 - g_loss: 2552.9859\n",
      "Epoch 147/150\n",
      "150/150 [==============================] - 114s 762ms/step - d_loss: -4103.7258 - g_loss: 2988.9698\n",
      "Epoch 148/150\n",
      "150/150 [==============================] - 114s 760ms/step - d_loss: -4124.5464 - g_loss: 2593.9198\n",
      "Epoch 149/150\n",
      "150/150 [==============================] - 115s 763ms/step - d_loss: -3868.9374 - g_loss: 2414.3747\n",
      "Epoch 150/150\n",
      "150/150 [==============================] - 114s 760ms/step - d_loss: -3633.0647 - g_loss: 2541.4208\n"
     ]
    }
   ],
   "source": [
    "history = wgan2d.fit(dataloader, batch_size=batch_size, epochs=150, callbacks=[callback])"
   ]
  },
  {
   "cell_type": "code",
   "execution_count": 22,
   "metadata": {
    "colab": {
     "base_uri": "https://localhost:8080/",
     "height": 265
    },
    "id": "HZVGbxa3EfGO",
    "outputId": "c3c8dcd1-5519-45a5-cb6f-002049fc5a37"
   },
   "outputs": [
    {
     "data": {
      "image/png": "[encoded data removed]",
      "text/plain": [
       "<Figure size 432x288 with 1 Axes>"
      ]
     },
     "metadata": {
      "needs_background": "light"
     },
     "output_type": "display_data"
    }
   ],
   "source": [
    "g_loss_history = history.history['g_loss']\n",
    "d_loss_history = history.history['d_loss']\n",
    "epochs = range(len(d_loss_history))\n",
    "\n",
    "plt.plot(epochs, g_loss_history)\n",
    "plt.plot(epochs, d_loss_history)\n",
    "plt.show()"
   ]
  },
  {
   "cell_type": "markdown",
   "metadata": {
    "id": "YhAhlwQPntIK"
   },
   "source": [
    "## Visualisation"
   ]
  },
  {
   "cell_type": "code",
   "execution_count": 23,
   "metadata": {
    "id": "LvhG71A4nstE"
   },
   "outputs": [],
   "source": [
    "import numpy as np\n",
    "\n",
    "def show_images(array_img, cmap, norm):\n",
    "    # IMAGES\n",
    "    plt.figure(figsize=(10, 5))\n",
    "    plt.axis('off')\n",
    "    slice_h = array_img.numpy().shape[1]\n",
    "    slice_w = array_img.numpy().shape[2]\n",
    "  \n",
    "\n",
    "    size_high_res = (slice_h, slice_w)\n",
    "\n",
    "    plt.imshow(np.argmax(array_img.numpy(), axis=-1).reshape(size_high_res),\n",
    "               interpolation='nearest', cmap=cmap, norm=norm)\n",
    "    plt.show()\n"
   ]
  },
  {
   "cell_type": "code",
   "execution_count": 24,
   "metadata": {
    "colab": {
     "base_uri": "https://localhost:8080/",
     "height": 1000
    },
    "id": "f9InIrWIUvZd",
    "outputId": "a83fae04-357e-4d2f-8217-aec81304c4e9"
   },
   "outputs": [
    {
     "data": {
      "image/png": "[encoded data removed]",
      "text/plain": [
       "<Figure size 720x360 with 1 Axes>"
      ]
     },
     "metadata": {
      "needs_background": "light"
     },
     "output_type": "display_data"
    },
    {
     "data": {
      "image/png": "[encoded data removed]",
      "text/plain": [
       "<Figure size 720x360 with 1 Axes>"
      ]
     },
     "metadata": {
      "needs_background": "light"
     },
     "output_type": "display_data"
    },
    {
     "data": {
      "image/png": "[encoded data removed]",
      "text/plain": [
       "<Figure size 720x360 with 1 Axes>"
      ]
     },
     "metadata": {
      "needs_background": "light"
     },
     "output_type": "display_data"
    },
    {
     "data": {
      "image/png": "[encoded data removed]",
      "text/plain": [
       "<Figure size 720x360 with 1 Axes>"
      ]
     },
     "metadata": {
      "needs_background": "light"
     },
     "output_type": "display_data"
    },
    {
     "data": {
      "image/png": "[encoded data removed]",
      "text/plain": [
       "<Figure size 720x360 with 1 Axes>"
      ]
     },
     "metadata": {
      "needs_background": "light"
     },
     "output_type": "display_data"
    }
   ],
   "source": [
    "for i in range(5):\n",
    "  random_latent_vectors = generate_noise(1, *noise_shape, 1)\n",
    "  generated_images = g_model(random_latent_vectors, training=True)\n",
    "  show_images(generated_images, cmap=cmap, norm=norm)\n"
   ]
  },
  {
   "cell_type": "code",
   "execution_count": 25,
   "metadata": {
    "colab": {
     "base_uri": "https://localhost:8080/",
     "height": 472
    },
    "id": "8Vc3S1oOjw1w",
    "outputId": "6b154dc9-b72d-4afd-cba0-b24d48b95d0a"
   },
   "outputs": [
    {
     "name": "stdout",
     "output_type": "stream",
     "text": [
      "CPU times: user 4 µs, sys: 0 ns, total: 4 µs\n",
      "Wall time: 8.58 µs\n"
     ]
    },
    {
     "data": {
      "image/png": "[encoded data removed]",
      "text/plain": [
       "<Figure size 2880x2880 with 1 Axes>"
      ]
     },
     "metadata": {
      "needs_background": "light"
     },
     "output_type": "display_data"
    }
   ],
   "source": [
    "# Generation time tests\n",
    "\n",
    "%time\n",
    "random_latent_vectors = generate_noise(1, 32, 64, 1)\n",
    "generated_images = g_model(random_latent_vectors, training=True)\n",
    "visualise_slice(generated_images, cmap, norm, slice_h=generated_images.shape[1], slice_w=generated_images.shape[2])\n"
   ]
  },
  {
   "cell_type": "markdown",
   "metadata": {
    "id": "BaM5V0GwhuE6"
   },
   "source": [
    "## Saving the weights"
   ]
  },
  {
   "cell_type": "code",
   "execution_count": 26,
   "metadata": {
    "colab": {
     "base_uri": "https://localhost:8080/"
    },
    "id": "eqVe_exL3blt",
    "outputId": "700a2e2a-9a22-40ba-871e-48242bd8145a"
   },
   "outputs": [
    {
     "name": "stdout",
     "output_type": "stream",
     "text": [
      "./wgangs_weights_horiz/\n",
      "./wgangs_weights_horiz/cp-wgangs2d_horiz.ckpt.data-00000-of-00001\n",
      "./wgangs_weights_horiz/checkpoint\n",
      "./wgangs_weights_horiz/cp-wgangs2d_horiz.ckpt.index\n",
      "./wgengs_weights_horiz/\n",
      "./wgengs_weights_horiz/cp-wgengs2d_horiz.ckpt.index\n",
      "./wgengs_weights_horiz/cp-wgengs2d_horiz.ckpt.data-00000-of-00001\n",
      "./wgengs_weights_horiz/checkpoint\n"
     ]
    }
   ],
   "source": [
    "import os\n",
    "\n",
    "SAVE_AND_TAR_RESULTS_WEIGHTS = True\n",
    "\n",
    "if SAVE_AND_TAR_RESULTS_WEIGHTS:\n",
    "  wgangs_checkpoint_path = \"wgangs_weights_horiz/cp-wgangs2d_horiz.ckpt\"\n",
    "  wgangs_checkpoint_dir = os.path.dirname(wgangs_checkpoint_path)\n",
    "\n",
    "  wgan2d.save_weights(wgangs_checkpoint_path)\n",
    "\n",
    "  !tar -czvf wgangs_weights_horiz.tar.gz ./wgangs_weights_horiz\n",
    "\n",
    "  wgengs_checkpoint_path = \"wgengs_weights_horiz/cp-wgengs2d_horiz.ckpt\"\n",
    "  wgengs_checkpoint_dir = os.path.dirname(wgengs_checkpoint_path)\n",
    "\n",
    "  g_model.save_weights(wgengs_checkpoint_path)\n",
    "\n",
    "  !tar -czvf wgengs_weights_horiz.tar.gz ./wgengs_weights_horiz"
   ]
  }
 ],
 "metadata": {
  "accelerator": "GPU",
  "colab": {
   "include_colab_link": true,
   "name": "wgan2d_horizontal_example.ipynb",
   "provenance": []
  },
  "kernelspec": {
   "display_name": "Python 3",
   "language": "python",
   "name": "python3"
  },
  "language_info": {
   "codemirror_mode": {
    "name": "ipython",
    "version": 3
   },
   "file_extension": ".py",
   "mimetype": "text/x-python",
   "name": "python",
   "nbconvert_exporter": "python",
   "pygments_lexer": "ipython3",
   "version": "3.8.10"
  }
 },
 "nbformat": 4,
 "nbformat_minor": 1
}
